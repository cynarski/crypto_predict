{
 "cells": [
  {
   "cell_type": "code",
   "outputs": [],
   "source": [
    "import numpy as np\n",
    "import pandas as pd\n",
    "import matplotlib.pyplot as plt\n",
    "import tensorflow as tf\n",
    "from sklearn.preprocessing import MinMaxScaler\n",
    "import yfinance as yf"
   ],
   "metadata": {
    "collapsed": false
   },
   "id": "cce5aed6e214e7f",
   "execution_count": null
  },
  {
   "cell_type": "code",
   "outputs": [],
   "source": [
    "train_start_date = '2016-01-01'\n",
    "train_end_date = '2022-12-31'\n",
    "predict_start_date = '2023-01-01'\n",
    "predict_end_date = '2023-12-31'\n",
    "\n",
    "btc = yf.download('BTC-USD', start=train_start_date, end=predict_end_date)\n",
    "print(btc.head())"
   ],
   "metadata": {
    "collapsed": false
   },
   "id": "b63be788fe51e0c4",
   "execution_count": null
  },
  {
   "cell_type": "code",
   "outputs": [],
   "source": [
    "# Wyodrębnij dane do treningu i testowania na podstawie dat\n",
    "date = pd.to_datetime(predict_start_date)\n",
    "new_date = date - pd.Timedelta(days=100)\n",
    "train_data = btc.loc[train_start_date:train_end_date]['Close'].values.reshape(-1, 1)\n",
    "test_data = btc.loc[new_date.strftime('%Y-%m-%d'):predict_end_date]['Close'].values.reshape(-1, 1)\n",
    "print(len(train_data), len(test_data))\n",
    "\n",
    "print(btc.loc[predict_start_date:predict_end_date])"
   ],
   "metadata": {
    "collapsed": false
   },
   "id": "c6343f40d50e2698",
   "execution_count": null
  },
  {
   "cell_type": "code",
   "outputs": [
    {
     "name": "stdout",
     "output_type": "stream",
     "text": [
      "<class 'sklearn.preprocessing._data.MinMaxScaler'>\n",
      "2557 464\n"
     ]
    }
   ],
   "source": [
    "# 3. Normalizacja danych\n",
    "scaler = MinMaxScaler(feature_range=(0, 1))\n",
    "print(type(scaler))\n",
    "train_data_scaled = scaler.fit_transform(train_data)\n",
    "test_data_scaled = scaler.transform(test_data)\n",
    "print(len(train_data_scaled), len(test_data_scaled))"
   ],
   "metadata": {
    "collapsed": false,
    "ExecuteTime": {
     "end_time": "2024-10-06T18:37:50.199092Z",
     "start_time": "2024-10-06T18:37:50.173243Z"
    }
   },
   "id": "f74b4e95640e5335",
   "execution_count": 198
  },
  {
   "cell_type": "code",
   "outputs": [],
   "source": [
    "# 4. Podział danych na zestawy treningowe i testowe\n",
    "# train_size = int(len(btc_close_scaled) * 0.8)  # 80% danych do treningu\n",
    "# train_data, test_data = btc_close_scaled[0:train_size], btc_close_scaled[train_size:len(btc_close_scaled)]\n",
    "# print(train_size)\n",
    "# print(len(btc_close_scaled))\n"
   ],
   "metadata": {
    "collapsed": false
   },
   "id": "9caad27936e0971a",
   "execution_count": null
  },
  {
   "cell_type": "code",
   "outputs": [],
   "source": [
    "# 5. Przygotowanie danych do LSTM\n",
    "def create_dataset(dataset, time_step=1):\n",
    "    dataX, dataY = [], []\n",
    "    for i in range(len(dataset) - time_step - 1):\n",
    "        a = dataset[i:(i + time_step), 0]\n",
    "        dataX.append(a)\n",
    "        dataY.append(dataset[i + time_step, 0])\n",
    "    return np.array(dataX), np.array(dataY)"
   ],
   "metadata": {
    "collapsed": false
   },
   "id": "e9ac8a0cb5f5e467",
   "execution_count": null
  },
  {
   "cell_type": "code",
   "outputs": [],
   "source": [
    "time_step = 100\n",
    "X_train, y_train = create_dataset(train_data_scaled, time_step)\n",
    "X_test, y_test = create_dataset(test_data_scaled, time_step)\n"
   ],
   "metadata": {
    "collapsed": false
   },
   "id": "2273972b7f2f3794",
   "execution_count": null
  },
  {
   "cell_type": "code",
   "outputs": [],
   "source": [
    "# 6. Konwersja danych do formatu akceptowanego przez LSTM (samples, time_steps, features)\n",
    "X_train = X_train.reshape(X_train.shape[0], X_train.shape[1], 1)\n",
    "X_test = X_test.reshape(X_test.shape[0], X_test.shape[1], 1)\n",
    "print(len(X_train), len(X_test))"
   ],
   "metadata": {
    "collapsed": false
   },
   "id": "d2268a44bdaeb757",
   "execution_count": null
  },
  {
   "cell_type": "code",
   "outputs": [],
   "source": [
    "# 7. Tworzenie modelu LSTM\n",
    "model = tf.keras.Sequential([\n",
    "    tf.keras.layers.LSTM(100, return_sequences=True, input_shape=(X_train.shape[1], 1)),\n",
    "    tf.keras.layers.LSTM(100, return_sequences=False),\n",
    "    tf.keras.layers.Dense(25),\n",
    "    tf.keras.layers.Dense(1)\n",
    "])\n",
    "model.summary()"
   ],
   "metadata": {
    "collapsed": false
   },
   "id": "c7838a7dde511ec5",
   "execution_count": null
  },
  {
   "cell_type": "code",
   "outputs": [],
   "source": [
    "# Kompilacja modelu\n",
    "model.compile(optimizer='adam', loss='mean_squared_error')\n",
    "\n",
    "# 8. Trenowanie modelu\n",
    "model.fit(X_train, y_train, validation_data=(X_test, y_test), epochs=25, batch_size=64, verbose=1)"
   ],
   "metadata": {
    "collapsed": false
   },
   "id": "a655e502090bc49a",
   "execution_count": null
  },
  {
   "cell_type": "code",
   "outputs": [],
   "source": [
    "# 9. Predykcja na danych testowych\n",
    "predictions = model.predict(X_test)\n",
    "print(predictions[:10])"
   ],
   "metadata": {
    "collapsed": false
   },
   "id": "24ffe8dbcefa7229",
   "execution_count": null
  },
  {
   "cell_type": "code",
   "outputs": [],
   "source": [
    "# 10. Odwrotna transformacja dla porównania z rzeczywistymi danymi\n",
    "predictions = scaler.inverse_transform(predictions.reshape(-1, 1))\n",
    "y_test = scaler.inverse_transform(y_test.reshape(-1, 1))\n",
    "print(y_test[:10])"
   ],
   "metadata": {
    "collapsed": false
   },
   "id": "1a0796ef61912ae8",
   "execution_count": null
  },
  {
   "cell_type": "code",
   "outputs": [],
   "source": [
    "print(len(predictions))\n",
    "print(len(X_test))"
   ],
   "metadata": {
    "collapsed": false
   },
   "id": "b7fff0ef4c27b485",
   "execution_count": null
  },
  {
   "cell_type": "code",
   "outputs": [],
   "source": [
    "# Wizualizacja prognozy i rzeczywistych danych dla roku 2023\n",
    "plt.figure(figsize=(10, 5))\n",
    "\n",
    "# Daty testowe (dla prognoz)\n",
    "test_dates = btc.loc[new_date.strftime('%Y-%m-%d'):predict_end_date].index[time_step + 1:len(predictions) + time_step + 1]\n",
    "print(len(test_dates))\n",
    "# Wykres przewidywań\n",
    "plt.plot(test_dates, predictions, label='Predicted', color='red')\n",
    "\n",
    "# Wyświetlanie rzeczywistych cen dla tego okresu\n",
    "actual_prices = btc['Close'].loc[predict_start_date:predict_end_date]\n",
    "actual_dates = actual_prices.index\n",
    "print(len(actual_dates))\n",
    "plt.plot(actual_dates, actual_prices, label='Actual', color='blue')\n",
    "\n",
    "plt.title(f'Bitcoin Price Prediction ({predict_start_date} - {predict_end_date})')\n",
    "plt.xlabel('Date')\n",
    "plt.ylabel('Price (USD)')\n",
    "plt.legend()\n",
    "plt.xticks(rotation=45)\n",
    "plt.xlim([predict_start_date, predict_end_date])  # Ustawiamy zakres osi X\n",
    "plt.show()\n",
    "\n",
    "print(predictions)\n"
   ],
   "metadata": {
    "collapsed": false
   },
   "id": "c557f0e24027f30f",
   "execution_count": null
  }
 ],
 "metadata": {
  "kernelspec": {
   "display_name": "Python 3",
   "language": "python",
   "name": "python3"
  },
  "language_info": {
   "codemirror_mode": {
    "name": "ipython",
    "version": 2
   },
   "file_extension": ".py",
   "mimetype": "text/x-python",
   "name": "python",
   "nbconvert_exporter": "python",
   "pygments_lexer": "ipython2",
   "version": "2.7.6"
  }
 },
 "nbformat": 4,
 "nbformat_minor": 5
}
