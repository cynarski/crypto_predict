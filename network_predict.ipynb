{
 "cells": [
  {
   "cell_type": "code",
   "outputs": [],
   "source": [
    "import numpy as np\n",
    "import pandas as pd\n",
    "import matplotlib.pyplot as plt\n",
    "import tensorflow as tf\n",
    "from sklearn.preprocessing import MinMaxScaler\n",
    "import yfinance as yf"
   ],
   "metadata": {
    "collapsed": false,
    "ExecuteTime": {
     "end_time": "2024-10-12T09:05:55.925652Z",
     "start_time": "2024-10-12T09:05:55.911653Z"
    }
   },
   "id": "cce5aed6e214e7f",
   "execution_count": 83
  },
  {
   "cell_type": "code",
   "outputs": [
    {
     "name": "stderr",
     "output_type": "stream",
     "text": [
      "[*********************100%***********************]  1 of 1 completed"
     ]
    },
    {
     "name": "stdout",
     "output_type": "stream",
     "text": [
      "                    Open          High           Low         Close  \\\n",
      "Date                                                                 \n",
      "2021-01-01  28994.009766  29600.626953  28803.585938  29374.152344   \n",
      "2021-01-02  29376.455078  33155.117188  29091.181641  32127.267578   \n",
      "2021-01-03  32129.408203  34608.558594  32052.316406  32782.023438   \n",
      "2021-01-04  32810.949219  33440.218750  28722.755859  31971.914062   \n",
      "2021-01-05  31977.041016  34437.589844  30221.187500  33992.429688   \n",
      "\n",
      "               Adj Close       Volume  \n",
      "Date                                   \n",
      "2021-01-01  29374.152344  40730301359  \n",
      "2021-01-02  32127.267578  67865420765  \n",
      "2021-01-03  32782.023438  78665235202  \n",
      "2021-01-04  31971.914062  81163475344  \n",
      "2021-01-05  33992.429688  67547324782  \n"
     ]
    },
    {
     "name": "stderr",
     "output_type": "stream",
     "text": [
      "\n"
     ]
    }
   ],
   "source": [
    "train_start_date = '2021-01-01'\n",
    "train_end_date = '2023-12-31'\n",
    "predict_start_date = '2024-01-01'\n",
    "predict_end_date = '2024-12-31'\n",
    "\n",
    "btc = yf.download('BTC-USD', start=train_start_date, end=predict_end_date)\n",
    "print(btc.head())"
   ],
   "metadata": {
    "collapsed": false,
    "ExecuteTime": {
     "end_time": "2024-10-12T09:05:56.114867Z",
     "start_time": "2024-10-12T09:05:55.927651Z"
    }
   },
   "id": "b63be788fe51e0c4",
   "execution_count": 84
  },
  {
   "cell_type": "code",
   "outputs": [
    {
     "name": "stdout",
     "output_type": "stream",
     "text": [
      "1095 385\n",
      "                    Open          High           Low         Close  \\\n",
      "Date                                                                 \n",
      "2024-01-01  42280.234375  44175.437500  42214.976562  44167.332031   \n",
      "2024-01-02  44187.140625  45899.707031  44176.949219  44957.968750   \n",
      "2024-01-03  44961.601562  45503.242188  40813.535156  42848.175781   \n",
      "2024-01-04  42855.816406  44770.023438  42675.175781  44179.921875   \n",
      "2024-01-05  44192.980469  44353.285156  42784.718750  44162.691406   \n",
      "...                  ...           ...           ...           ...   \n",
      "2024-10-07  62819.109375  64443.707031  62152.550781  62236.660156   \n",
      "2024-10-08  62221.644531  63174.304688  61843.562500  62131.968750   \n",
      "2024-10-09  62131.726562  62508.835938  60314.613281  60582.101562   \n",
      "2024-10-10  60581.929688  61236.722656  58895.207031  60274.500000   \n",
      "2024-10-12  62512.046875  62867.019531  62487.484375  62696.750000   \n",
      "\n",
      "               Adj Close       Volume  \n",
      "Date                                   \n",
      "2024-01-01  44167.332031  18426978443  \n",
      "2024-01-02  44957.968750  39335274536  \n",
      "2024-01-03  42848.175781  46342323118  \n",
      "2024-01-04  44179.921875  30448091210  \n",
      "2024-01-05  44162.691406  32336029347  \n",
      "...                  ...          ...  \n",
      "2024-10-07  62236.660156  34253562610  \n",
      "2024-10-08  62131.968750  28134475157  \n",
      "2024-10-09  60582.101562  27670982363  \n",
      "2024-10-10  60274.500000  30452813570  \n",
      "2024-10-12  62696.750000  29288251392  \n",
      "\n",
      "[285 rows x 6 columns]\n"
     ]
    }
   ],
   "source": [
    "# Wyodrębnij dane do treningu i testowania na podstawie dat\n",
    "date = pd.to_datetime(predict_start_date)\n",
    "new_date = date - pd.Timedelta(days=100)\n",
    "train_data = btc.loc[train_start_date:train_end_date]['Close'].values.reshape(-1, 1)\n",
    "test_data = btc.loc[new_date.strftime('%Y-%m-%d'):predict_end_date]['Close'].values.reshape(-1, 1)\n",
    "print(len(train_data), len(test_data))\n",
    "\n",
    "print(btc.loc[predict_start_date:predict_end_date])"
   ],
   "metadata": {
    "collapsed": false,
    "ExecuteTime": {
     "end_time": "2024-10-12T09:05:56.130819Z",
     "start_time": "2024-10-12T09:05:56.116819Z"
    }
   },
   "id": "c6343f40d50e2698",
   "execution_count": 85
  },
  {
   "cell_type": "code",
   "outputs": [
    {
     "name": "stdout",
     "output_type": "stream",
     "text": [
      "<class 'sklearn.preprocessing._data.MinMaxScaler'>\n",
      "1095 385\n"
     ]
    }
   ],
   "source": [
    "# 3. Normalizacja danych\n",
    "scaler = MinMaxScaler(feature_range=(0, 1))\n",
    "print(type(scaler))\n",
    "train_data_scaled = scaler.fit_transform(train_data)\n",
    "test_data_scaled = scaler.transform(test_data)\n",
    "print(len(train_data_scaled), len(test_data_scaled))"
   ],
   "metadata": {
    "collapsed": false,
    "ExecuteTime": {
     "end_time": "2024-10-12T09:05:56.146821Z",
     "start_time": "2024-10-12T09:05:56.131818Z"
    }
   },
   "id": "f74b4e95640e5335",
   "execution_count": 86
  },
  {
   "cell_type": "code",
   "outputs": [],
   "source": [
    "# 4. Podział danych na zestawy treningowe i testowe\n",
    "# train_size = int(len(btc_close_scaled) * 0.8)  # 80% danych do treningu\n",
    "# train_data, test_data = btc_close_scaled[0:train_size], btc_close_scaled[train_size:len(btc_close_scaled)]\n",
    "# print(train_size)\n",
    "# print(len(btc_close_scaled))\n"
   ],
   "metadata": {
    "collapsed": false,
    "ExecuteTime": {
     "end_time": "2024-10-12T09:05:56.162821Z",
     "start_time": "2024-10-12T09:05:56.148819Z"
    }
   },
   "id": "9caad27936e0971a",
   "execution_count": 87
  },
  {
   "cell_type": "code",
   "outputs": [],
   "source": [
    "# 5. Przygotowanie danych do LSTM\n",
    "def create_dataset(dataset, time_step=1):\n",
    "    dataX, dataY = [], []\n",
    "    for i in range(len(dataset) - time_step - 1):\n",
    "        a = dataset[i:(i + time_step), 0]\n",
    "        dataX.append(a)\n",
    "        dataY.append(dataset[i + time_step, 0])\n",
    "    return np.array(dataX), np.array(dataY)"
   ],
   "metadata": {
    "collapsed": false,
    "ExecuteTime": {
     "end_time": "2024-10-12T09:05:56.177867Z",
     "start_time": "2024-10-12T09:05:56.164824Z"
    }
   },
   "id": "e9ac8a0cb5f5e467",
   "execution_count": 88
  },
  {
   "cell_type": "code",
   "outputs": [],
   "source": [
    "time_step = 100\n",
    "X_train, y_train = create_dataset(train_data_scaled, time_step)\n",
    "X_test, y_test = create_dataset(test_data_scaled, time_step)\n"
   ],
   "metadata": {
    "collapsed": false,
    "ExecuteTime": {
     "end_time": "2024-10-12T09:05:56.193821Z",
     "start_time": "2024-10-12T09:05:56.178818Z"
    }
   },
   "id": "2273972b7f2f3794",
   "execution_count": 89
  },
  {
   "cell_type": "code",
   "outputs": [
    {
     "name": "stdout",
     "output_type": "stream",
     "text": [
      "994 284\n"
     ]
    }
   ],
   "source": [
    "# 6. Konwersja danych do formatu akceptowanego przez LSTM (samples, time_steps, features)\n",
    "X_train = X_train.reshape(X_train.shape[0], X_train.shape[1], 1)\n",
    "X_test = X_test.reshape(X_test.shape[0], X_test.shape[1], 1)\n",
    "print(len(X_train), len(X_test))"
   ],
   "metadata": {
    "collapsed": false,
    "ExecuteTime": {
     "end_time": "2024-10-12T09:05:56.209819Z",
     "start_time": "2024-10-12T09:05:56.194818Z"
    }
   },
   "id": "d2268a44bdaeb757",
   "execution_count": 90
  },
  {
   "cell_type": "code",
   "outputs": [
    {
     "name": "stderr",
     "output_type": "stream",
     "text": [
      "C:\\Users\\Michał\\Desktop\\crypto\\venv\\lib\\site-packages\\keras\\src\\layers\\rnn\\rnn.py:204: UserWarning: Do not pass an `input_shape`/`input_dim` argument to a layer. When using Sequential models, prefer using an `Input(shape)` object as the first layer in the model instead.\n",
      "  super().__init__(**kwargs)\n"
     ]
    },
    {
     "data": {
      "text/plain": "\u001B[1mModel: \"sequential_6\"\u001B[0m\n",
      "text/html": "<pre style=\"white-space:pre;overflow-x:auto;line-height:normal;font-family:Menlo,'DejaVu Sans Mono',consolas,'Courier New',monospace\"><span style=\"font-weight: bold\">Model: \"sequential_6\"</span>\n</pre>\n"
     },
     "metadata": {},
     "output_type": "display_data"
    },
    {
     "data": {
      "text/plain": "┏━━━━━━━━━━━━━━━━━━━━━━━━━━━━━━━━━┳━━━━━━━━━━━━━━━━━━━━━━━━┳━━━━━━━━━━━━━━━┓\n┃\u001B[1m \u001B[0m\u001B[1mLayer (type)                   \u001B[0m\u001B[1m \u001B[0m┃\u001B[1m \u001B[0m\u001B[1mOutput Shape          \u001B[0m\u001B[1m \u001B[0m┃\u001B[1m \u001B[0m\u001B[1m      Param #\u001B[0m\u001B[1m \u001B[0m┃\n┡━━━━━━━━━━━━━━━━━━━━━━━━━━━━━━━━━╇━━━━━━━━━━━━━━━━━━━━━━━━╇━━━━━━━━━━━━━━━┩\n│ lstm_13 (\u001B[38;5;33mLSTM\u001B[0m)                  │ (\u001B[38;5;45mNone\u001B[0m, \u001B[38;5;34m100\u001B[0m, \u001B[38;5;34m128\u001B[0m)       │        \u001B[38;5;34m66,560\u001B[0m │\n├─────────────────────────────────┼────────────────────────┼───────────────┤\n│ lstm_14 (\u001B[38;5;33mLSTM\u001B[0m)                  │ (\u001B[38;5;45mNone\u001B[0m, \u001B[38;5;34m64\u001B[0m)             │        \u001B[38;5;34m49,408\u001B[0m │\n├─────────────────────────────────┼────────────────────────┼───────────────┤\n│ dense_12 (\u001B[38;5;33mDense\u001B[0m)                │ (\u001B[38;5;45mNone\u001B[0m, \u001B[38;5;34m25\u001B[0m)             │         \u001B[38;5;34m1,625\u001B[0m │\n├─────────────────────────────────┼────────────────────────┼───────────────┤\n│ dense_13 (\u001B[38;5;33mDense\u001B[0m)                │ (\u001B[38;5;45mNone\u001B[0m, \u001B[38;5;34m1\u001B[0m)              │            \u001B[38;5;34m26\u001B[0m │\n└─────────────────────────────────┴────────────────────────┴───────────────┘\n",
      "text/html": "<pre style=\"white-space:pre;overflow-x:auto;line-height:normal;font-family:Menlo,'DejaVu Sans Mono',consolas,'Courier New',monospace\">┏━━━━━━━━━━━━━━━━━━━━━━━━━━━━━━━━━┳━━━━━━━━━━━━━━━━━━━━━━━━┳━━━━━━━━━━━━━━━┓\n┃<span style=\"font-weight: bold\"> Layer (type)                    </span>┃<span style=\"font-weight: bold\"> Output Shape           </span>┃<span style=\"font-weight: bold\">       Param # </span>┃\n┡━━━━━━━━━━━━━━━━━━━━━━━━━━━━━━━━━╇━━━━━━━━━━━━━━━━━━━━━━━━╇━━━━━━━━━━━━━━━┩\n│ lstm_13 (<span style=\"color: #0087ff; text-decoration-color: #0087ff\">LSTM</span>)                  │ (<span style=\"color: #00d7ff; text-decoration-color: #00d7ff\">None</span>, <span style=\"color: #00af00; text-decoration-color: #00af00\">100</span>, <span style=\"color: #00af00; text-decoration-color: #00af00\">128</span>)       │        <span style=\"color: #00af00; text-decoration-color: #00af00\">66,560</span> │\n├─────────────────────────────────┼────────────────────────┼───────────────┤\n│ lstm_14 (<span style=\"color: #0087ff; text-decoration-color: #0087ff\">LSTM</span>)                  │ (<span style=\"color: #00d7ff; text-decoration-color: #00d7ff\">None</span>, <span style=\"color: #00af00; text-decoration-color: #00af00\">64</span>)             │        <span style=\"color: #00af00; text-decoration-color: #00af00\">49,408</span> │\n├─────────────────────────────────┼────────────────────────┼───────────────┤\n│ dense_12 (<span style=\"color: #0087ff; text-decoration-color: #0087ff\">Dense</span>)                │ (<span style=\"color: #00d7ff; text-decoration-color: #00d7ff\">None</span>, <span style=\"color: #00af00; text-decoration-color: #00af00\">25</span>)             │         <span style=\"color: #00af00; text-decoration-color: #00af00\">1,625</span> │\n├─────────────────────────────────┼────────────────────────┼───────────────┤\n│ dense_13 (<span style=\"color: #0087ff; text-decoration-color: #0087ff\">Dense</span>)                │ (<span style=\"color: #00d7ff; text-decoration-color: #00d7ff\">None</span>, <span style=\"color: #00af00; text-decoration-color: #00af00\">1</span>)              │            <span style=\"color: #00af00; text-decoration-color: #00af00\">26</span> │\n└─────────────────────────────────┴────────────────────────┴───────────────┘\n</pre>\n"
     },
     "metadata": {},
     "output_type": "display_data"
    },
    {
     "data": {
      "text/plain": "\u001B[1m Total params: \u001B[0m\u001B[38;5;34m117,619\u001B[0m (459.45 KB)\n",
      "text/html": "<pre style=\"white-space:pre;overflow-x:auto;line-height:normal;font-family:Menlo,'DejaVu Sans Mono',consolas,'Courier New',monospace\"><span style=\"font-weight: bold\"> Total params: </span><span style=\"color: #00af00; text-decoration-color: #00af00\">117,619</span> (459.45 KB)\n</pre>\n"
     },
     "metadata": {},
     "output_type": "display_data"
    },
    {
     "data": {
      "text/plain": "\u001B[1m Trainable params: \u001B[0m\u001B[38;5;34m117,619\u001B[0m (459.45 KB)\n",
      "text/html": "<pre style=\"white-space:pre;overflow-x:auto;line-height:normal;font-family:Menlo,'DejaVu Sans Mono',consolas,'Courier New',monospace\"><span style=\"font-weight: bold\"> Trainable params: </span><span style=\"color: #00af00; text-decoration-color: #00af00\">117,619</span> (459.45 KB)\n</pre>\n"
     },
     "metadata": {},
     "output_type": "display_data"
    },
    {
     "data": {
      "text/plain": "\u001B[1m Non-trainable params: \u001B[0m\u001B[38;5;34m0\u001B[0m (0.00 B)\n",
      "text/html": "<pre style=\"white-space:pre;overflow-x:auto;line-height:normal;font-family:Menlo,'DejaVu Sans Mono',consolas,'Courier New',monospace\"><span style=\"font-weight: bold\"> Non-trainable params: </span><span style=\"color: #00af00; text-decoration-color: #00af00\">0</span> (0.00 B)\n</pre>\n"
     },
     "metadata": {},
     "output_type": "display_data"
    }
   ],
   "source": [
    "# 7. Tworzenie modelu LSTM\n",
    "model = tf.keras.Sequential([\n",
    "    tf.keras.layers.LSTM(128, return_sequences=True, input_shape=(X_train.shape[1], 1)),\n",
    "    tf.keras.layers.LSTM(64, return_sequences=False),\n",
    "    tf.keras.layers.Dense(25),\n",
    "    tf.keras.layers.Dense(1)\n",
    "])\n",
    "model.summary()"
   ],
   "metadata": {
    "collapsed": false,
    "ExecuteTime": {
     "end_time": "2024-10-12T09:05:56.273819Z",
     "start_time": "2024-10-12T09:05:56.211822Z"
    }
   },
   "id": "c7838a7dde511ec5",
   "execution_count": 91
  },
  {
   "cell_type": "code",
   "outputs": [
    {
     "name": "stdout",
     "output_type": "stream",
     "text": [
      "Epoch 1/100\n",
      "\u001B[1m16/16\u001B[0m \u001B[32m━━━━━━━━━━━━━━━━━━━━\u001B[0m\u001B[37m\u001B[0m \u001B[1m4s\u001B[0m 124ms/step - loss: 0.0412 - val_loss: 0.0051\n",
      "Epoch 2/100\n",
      "\u001B[1m16/16\u001B[0m \u001B[32m━━━━━━━━━━━━━━━━━━━━\u001B[0m\u001B[37m\u001B[0m \u001B[1m2s\u001B[0m 107ms/step - loss: 0.0047 - val_loss: 0.0041\n",
      "Epoch 3/100\n",
      "\u001B[1m16/16\u001B[0m \u001B[32m━━━━━━━━━━━━━━━━━━━━\u001B[0m\u001B[37m\u001B[0m \u001B[1m2s\u001B[0m 105ms/step - loss: 0.0025 - val_loss: 0.0042\n",
      "Epoch 4/100\n",
      "\u001B[1m16/16\u001B[0m \u001B[32m━━━━━━━━━━━━━━━━━━━━\u001B[0m\u001B[37m\u001B[0m \u001B[1m2s\u001B[0m 108ms/step - loss: 0.0025 - val_loss: 0.0049\n",
      "Epoch 5/100\n",
      "\u001B[1m16/16\u001B[0m \u001B[32m━━━━━━━━━━━━━━━━━━━━\u001B[0m\u001B[37m\u001B[0m \u001B[1m2s\u001B[0m 107ms/step - loss: 0.0021 - val_loss: 0.0035\n",
      "Epoch 6/100\n",
      "\u001B[1m16/16\u001B[0m \u001B[32m━━━━━━━━━━━━━━━━━━━━\u001B[0m\u001B[37m\u001B[0m \u001B[1m2s\u001B[0m 106ms/step - loss: 0.0022 - val_loss: 0.0034\n",
      "Epoch 7/100\n",
      "\u001B[1m16/16\u001B[0m \u001B[32m━━━━━━━━━━━━━━━━━━━━\u001B[0m\u001B[37m\u001B[0m \u001B[1m2s\u001B[0m 104ms/step - loss: 0.0021 - val_loss: 0.0032\n",
      "Epoch 8/100\n",
      "\u001B[1m16/16\u001B[0m \u001B[32m━━━━━━━━━━━━━━━━━━━━\u001B[0m\u001B[37m\u001B[0m \u001B[1m2s\u001B[0m 104ms/step - loss: 0.0019 - val_loss: 0.0039\n",
      "Epoch 9/100\n",
      "\u001B[1m16/16\u001B[0m \u001B[32m━━━━━━━━━━━━━━━━━━━━\u001B[0m\u001B[37m\u001B[0m \u001B[1m2s\u001B[0m 104ms/step - loss: 0.0017 - val_loss: 0.0029\n",
      "Epoch 10/100\n",
      "\u001B[1m16/16\u001B[0m \u001B[32m━━━━━━━━━━━━━━━━━━━━\u001B[0m\u001B[37m\u001B[0m \u001B[1m2s\u001B[0m 106ms/step - loss: 0.0017 - val_loss: 0.0058\n",
      "Epoch 11/100\n",
      "\u001B[1m16/16\u001B[0m \u001B[32m━━━━━━━━━━━━━━━━━━━━\u001B[0m\u001B[37m\u001B[0m \u001B[1m2s\u001B[0m 105ms/step - loss: 0.0016 - val_loss: 0.0029\n",
      "Epoch 12/100\n",
      "\u001B[1m16/16\u001B[0m \u001B[32m━━━━━━━━━━━━━━━━━━━━\u001B[0m\u001B[37m\u001B[0m \u001B[1m2s\u001B[0m 104ms/step - loss: 0.0015 - val_loss: 0.0053\n",
      "Epoch 13/100\n",
      "\u001B[1m16/16\u001B[0m \u001B[32m━━━━━━━━━━━━━━━━━━━━\u001B[0m\u001B[37m\u001B[0m \u001B[1m2s\u001B[0m 104ms/step - loss: 0.0017 - val_loss: 0.0030\n",
      "Epoch 14/100\n",
      "\u001B[1m16/16\u001B[0m \u001B[32m━━━━━━━━━━━━━━━━━━━━\u001B[0m\u001B[37m\u001B[0m \u001B[1m2s\u001B[0m 106ms/step - loss: 0.0015 - val_loss: 0.0029\n",
      "Epoch 15/100\n",
      "\u001B[1m16/16\u001B[0m \u001B[32m━━━━━━━━━━━━━━━━━━━━\u001B[0m\u001B[37m\u001B[0m \u001B[1m2s\u001B[0m 103ms/step - loss: 0.0014 - val_loss: 0.0036\n",
      "Epoch 16/100\n",
      "\u001B[1m16/16\u001B[0m \u001B[32m━━━━━━━━━━━━━━━━━━━━\u001B[0m\u001B[37m\u001B[0m \u001B[1m2s\u001B[0m 102ms/step - loss: 0.0016 - val_loss: 0.0051\n",
      "Epoch 17/100\n",
      "\u001B[1m16/16\u001B[0m \u001B[32m━━━━━━━━━━━━━━━━━━━━\u001B[0m\u001B[37m\u001B[0m \u001B[1m2s\u001B[0m 104ms/step - loss: 0.0015 - val_loss: 0.0022\n",
      "Epoch 18/100\n",
      "\u001B[1m16/16\u001B[0m \u001B[32m━━━━━━━━━━━━━━━━━━━━\u001B[0m\u001B[37m\u001B[0m \u001B[1m2s\u001B[0m 104ms/step - loss: 0.0012 - val_loss: 0.0023\n",
      "Epoch 19/100\n",
      "\u001B[1m16/16\u001B[0m \u001B[32m━━━━━━━━━━━━━━━━━━━━\u001B[0m\u001B[37m\u001B[0m \u001B[1m2s\u001B[0m 105ms/step - loss: 0.0015 - val_loss: 0.0026\n",
      "Epoch 20/100\n",
      "\u001B[1m16/16\u001B[0m \u001B[32m━━━━━━━━━━━━━━━━━━━━\u001B[0m\u001B[37m\u001B[0m \u001B[1m2s\u001B[0m 103ms/step - loss: 0.0013 - val_loss: 0.0020\n",
      "Epoch 21/100\n",
      "\u001B[1m16/16\u001B[0m \u001B[32m━━━━━━━━━━━━━━━━━━━━\u001B[0m\u001B[37m\u001B[0m \u001B[1m2s\u001B[0m 103ms/step - loss: 0.0013 - val_loss: 0.0023\n",
      "Epoch 22/100\n",
      "\u001B[1m16/16\u001B[0m \u001B[32m━━━━━━━━━━━━━━━━━━━━\u001B[0m\u001B[37m\u001B[0m \u001B[1m2s\u001B[0m 102ms/step - loss: 0.0011 - val_loss: 0.0020\n",
      "Epoch 23/100\n",
      "\u001B[1m16/16\u001B[0m \u001B[32m━━━━━━━━━━━━━━━━━━━━\u001B[0m\u001B[37m\u001B[0m \u001B[1m2s\u001B[0m 104ms/step - loss: 0.0010 - val_loss: 0.0024\n",
      "Epoch 24/100\n",
      "\u001B[1m16/16\u001B[0m \u001B[32m━━━━━━━━━━━━━━━━━━━━\u001B[0m\u001B[37m\u001B[0m \u001B[1m2s\u001B[0m 103ms/step - loss: 0.0011 - val_loss: 0.0022\n",
      "Epoch 25/100\n",
      "\u001B[1m16/16\u001B[0m \u001B[32m━━━━━━━━━━━━━━━━━━━━\u001B[0m\u001B[37m\u001B[0m \u001B[1m2s\u001B[0m 103ms/step - loss: 0.0012 - val_loss: 0.0018\n",
      "Epoch 26/100\n",
      "\u001B[1m16/16\u001B[0m \u001B[32m━━━━━━━━━━━━━━━━━━━━\u001B[0m\u001B[37m\u001B[0m \u001B[1m2s\u001B[0m 103ms/step - loss: 0.0011 - val_loss: 0.0018\n",
      "Epoch 27/100\n",
      "\u001B[1m16/16\u001B[0m \u001B[32m━━━━━━━━━━━━━━━━━━━━\u001B[0m\u001B[37m\u001B[0m \u001B[1m2s\u001B[0m 102ms/step - loss: 0.0011 - val_loss: 0.0017\n",
      "Epoch 28/100\n",
      "\u001B[1m16/16\u001B[0m \u001B[32m━━━━━━━━━━━━━━━━━━━━\u001B[0m\u001B[37m\u001B[0m \u001B[1m2s\u001B[0m 103ms/step - loss: 0.0010 - val_loss: 0.0025\n",
      "Epoch 29/100\n",
      "\u001B[1m16/16\u001B[0m \u001B[32m━━━━━━━━━━━━━━━━━━━━\u001B[0m\u001B[37m\u001B[0m \u001B[1m2s\u001B[0m 105ms/step - loss: 0.0011 - val_loss: 0.0016\n",
      "Epoch 30/100\n",
      "\u001B[1m16/16\u001B[0m \u001B[32m━━━━━━━━━━━━━━━━━━━━\u001B[0m\u001B[37m\u001B[0m \u001B[1m2s\u001B[0m 101ms/step - loss: 0.0011 - val_loss: 0.0016\n",
      "Epoch 31/100\n",
      "\u001B[1m16/16\u001B[0m \u001B[32m━━━━━━━━━━━━━━━━━━━━\u001B[0m\u001B[37m\u001B[0m \u001B[1m2s\u001B[0m 103ms/step - loss: 8.9339e-04 - val_loss: 0.0016\n",
      "Epoch 32/100\n",
      "\u001B[1m16/16\u001B[0m \u001B[32m━━━━━━━━━━━━━━━━━━━━\u001B[0m\u001B[37m\u001B[0m \u001B[1m2s\u001B[0m 103ms/step - loss: 9.3437e-04 - val_loss: 0.0015\n",
      "Epoch 33/100\n",
      "\u001B[1m16/16\u001B[0m \u001B[32m━━━━━━━━━━━━━━━━━━━━\u001B[0m\u001B[37m\u001B[0m \u001B[1m2s\u001B[0m 101ms/step - loss: 9.8907e-04 - val_loss: 0.0015\n",
      "Epoch 34/100\n",
      "\u001B[1m16/16\u001B[0m \u001B[32m━━━━━━━━━━━━━━━━━━━━\u001B[0m\u001B[37m\u001B[0m \u001B[1m2s\u001B[0m 101ms/step - loss: 9.7036e-04 - val_loss: 0.0015\n",
      "Epoch 35/100\n",
      "\u001B[1m16/16\u001B[0m \u001B[32m━━━━━━━━━━━━━━━━━━━━\u001B[0m\u001B[37m\u001B[0m \u001B[1m2s\u001B[0m 101ms/step - loss: 8.5421e-04 - val_loss: 0.0019\n",
      "Epoch 36/100\n",
      "\u001B[1m16/16\u001B[0m \u001B[32m━━━━━━━━━━━━━━━━━━━━\u001B[0m\u001B[37m\u001B[0m \u001B[1m2s\u001B[0m 101ms/step - loss: 8.9864e-04 - val_loss: 0.0014\n",
      "Epoch 37/100\n",
      "\u001B[1m16/16\u001B[0m \u001B[32m━━━━━━━━━━━━━━━━━━━━\u001B[0m\u001B[37m\u001B[0m \u001B[1m2s\u001B[0m 101ms/step - loss: 9.3550e-04 - val_loss: 0.0018\n",
      "Epoch 38/100\n",
      "\u001B[1m16/16\u001B[0m \u001B[32m━━━━━━━━━━━━━━━━━━━━\u001B[0m\u001B[37m\u001B[0m \u001B[1m2s\u001B[0m 102ms/step - loss: 0.0011 - val_loss: 0.0014\n",
      "Epoch 39/100\n",
      "\u001B[1m16/16\u001B[0m \u001B[32m━━━━━━━━━━━━━━━━━━━━\u001B[0m\u001B[37m\u001B[0m \u001B[1m2s\u001B[0m 100ms/step - loss: 9.3764e-04 - val_loss: 0.0017\n",
      "Epoch 40/100\n",
      "\u001B[1m16/16\u001B[0m \u001B[32m━━━━━━━━━━━━━━━━━━━━\u001B[0m\u001B[37m\u001B[0m \u001B[1m2s\u001B[0m 101ms/step - loss: 7.2708e-04 - val_loss: 0.0014\n",
      "Epoch 41/100\n",
      "\u001B[1m16/16\u001B[0m \u001B[32m━━━━━━━━━━━━━━━━━━━━\u001B[0m\u001B[37m\u001B[0m \u001B[1m2s\u001B[0m 101ms/step - loss: 8.3721e-04 - val_loss: 0.0014\n",
      "Epoch 42/100\n",
      "\u001B[1m16/16\u001B[0m \u001B[32m━━━━━━━━━━━━━━━━━━━━\u001B[0m\u001B[37m\u001B[0m \u001B[1m2s\u001B[0m 101ms/step - loss: 7.2238e-04 - val_loss: 0.0016\n",
      "Epoch 43/100\n",
      "\u001B[1m16/16\u001B[0m \u001B[32m━━━━━━━━━━━━━━━━━━━━\u001B[0m\u001B[37m\u001B[0m \u001B[1m2s\u001B[0m 101ms/step - loss: 7.4982e-04 - val_loss: 0.0021\n",
      "Epoch 44/100\n",
      "\u001B[1m16/16\u001B[0m \u001B[32m━━━━━━━━━━━━━━━━━━━━\u001B[0m\u001B[37m\u001B[0m \u001B[1m2s\u001B[0m 103ms/step - loss: 7.6712e-04 - val_loss: 0.0014\n",
      "Epoch 45/100\n",
      "\u001B[1m16/16\u001B[0m \u001B[32m━━━━━━━━━━━━━━━━━━━━\u001B[0m\u001B[37m\u001B[0m \u001B[1m2s\u001B[0m 101ms/step - loss: 7.6268e-04 - val_loss: 0.0014\n",
      "Epoch 46/100\n",
      "\u001B[1m16/16\u001B[0m \u001B[32m━━━━━━━━━━━━━━━━━━━━\u001B[0m\u001B[37m\u001B[0m \u001B[1m2s\u001B[0m 101ms/step - loss: 6.9932e-04 - val_loss: 0.0021\n",
      "Epoch 47/100\n",
      "\u001B[1m16/16\u001B[0m \u001B[32m━━━━━━━━━━━━━━━━━━━━\u001B[0m\u001B[37m\u001B[0m \u001B[1m2s\u001B[0m 100ms/step - loss: 8.4631e-04 - val_loss: 0.0013\n",
      "Epoch 48/100\n",
      "\u001B[1m16/16\u001B[0m \u001B[32m━━━━━━━━━━━━━━━━━━━━\u001B[0m\u001B[37m\u001B[0m \u001B[1m2s\u001B[0m 100ms/step - loss: 6.9394e-04 - val_loss: 0.0016\n",
      "Epoch 49/100\n",
      "\u001B[1m16/16\u001B[0m \u001B[32m━━━━━━━━━━━━━━━━━━━━\u001B[0m\u001B[37m\u001B[0m \u001B[1m2s\u001B[0m 101ms/step - loss: 7.7548e-04 - val_loss: 0.0017\n",
      "Epoch 50/100\n",
      "\u001B[1m16/16\u001B[0m \u001B[32m━━━━━━━━━━━━━━━━━━━━\u001B[0m\u001B[37m\u001B[0m \u001B[1m2s\u001B[0m 101ms/step - loss: 8.0002e-04 - val_loss: 0.0011\n",
      "Epoch 51/100\n",
      "\u001B[1m16/16\u001B[0m \u001B[32m━━━━━━━━━━━━━━━━━━━━\u001B[0m\u001B[37m\u001B[0m \u001B[1m2s\u001B[0m 100ms/step - loss: 6.6372e-04 - val_loss: 0.0015\n",
      "Epoch 52/100\n",
      "\u001B[1m16/16\u001B[0m \u001B[32m━━━━━━━━━━━━━━━━━━━━\u001B[0m\u001B[37m\u001B[0m \u001B[1m2s\u001B[0m 100ms/step - loss: 6.5274e-04 - val_loss: 0.0012\n",
      "Epoch 53/100\n",
      "\u001B[1m16/16\u001B[0m \u001B[32m━━━━━━━━━━━━━━━━━━━━\u001B[0m\u001B[37m\u001B[0m \u001B[1m2s\u001B[0m 100ms/step - loss: 6.9322e-04 - val_loss: 0.0011\n",
      "Epoch 54/100\n",
      "\u001B[1m16/16\u001B[0m \u001B[32m━━━━━━━━━━━━━━━━━━━━\u001B[0m\u001B[37m\u001B[0m \u001B[1m2s\u001B[0m 99ms/step - loss: 6.5655e-04 - val_loss: 0.0012\n",
      "Epoch 55/100\n",
      "\u001B[1m16/16\u001B[0m \u001B[32m━━━━━━━━━━━━━━━━━━━━\u001B[0m\u001B[37m\u001B[0m \u001B[1m2s\u001B[0m 99ms/step - loss: 6.1277e-04 - val_loss: 0.0011\n",
      "Epoch 56/100\n",
      "\u001B[1m16/16\u001B[0m \u001B[32m━━━━━━━━━━━━━━━━━━━━\u001B[0m\u001B[37m\u001B[0m \u001B[1m2s\u001B[0m 101ms/step - loss: 6.8187e-04 - val_loss: 0.0012\n",
      "Epoch 57/100\n",
      "\u001B[1m16/16\u001B[0m \u001B[32m━━━━━━━━━━━━━━━━━━━━\u001B[0m\u001B[37m\u001B[0m \u001B[1m2s\u001B[0m 99ms/step - loss: 7.4804e-04 - val_loss: 0.0011\n",
      "Epoch 58/100\n",
      "\u001B[1m16/16\u001B[0m \u001B[32m━━━━━━━━━━━━━━━━━━━━\u001B[0m\u001B[37m\u001B[0m \u001B[1m2s\u001B[0m 101ms/step - loss: 7.2713e-04 - val_loss: 0.0012\n",
      "Epoch 59/100\n",
      "\u001B[1m16/16\u001B[0m \u001B[32m━━━━━━━━━━━━━━━━━━━━\u001B[0m\u001B[37m\u001B[0m \u001B[1m2s\u001B[0m 100ms/step - loss: 6.3831e-04 - val_loss: 0.0012\n",
      "Epoch 60/100\n",
      "\u001B[1m16/16\u001B[0m \u001B[32m━━━━━━━━━━━━━━━━━━━━\u001B[0m\u001B[37m\u001B[0m \u001B[1m2s\u001B[0m 100ms/step - loss: 7.0341e-04 - val_loss: 0.0012\n",
      "Epoch 61/100\n",
      "\u001B[1m16/16\u001B[0m \u001B[32m━━━━━━━━━━━━━━━━━━━━\u001B[0m\u001B[37m\u001B[0m \u001B[1m2s\u001B[0m 100ms/step - loss: 6.5858e-04 - val_loss: 0.0025\n",
      "Epoch 62/100\n",
      "\u001B[1m16/16\u001B[0m \u001B[32m━━━━━━━━━━━━━━━━━━━━\u001B[0m\u001B[37m\u001B[0m \u001B[1m2s\u001B[0m 101ms/step - loss: 8.2874e-04 - val_loss: 0.0024\n",
      "Epoch 63/100\n",
      "\u001B[1m16/16\u001B[0m \u001B[32m━━━━━━━━━━━━━━━━━━━━\u001B[0m\u001B[37m\u001B[0m \u001B[1m2s\u001B[0m 100ms/step - loss: 7.9270e-04 - val_loss: 0.0021\n",
      "Epoch 64/100\n",
      "\u001B[1m16/16\u001B[0m \u001B[32m━━━━━━━━━━━━━━━━━━━━\u001B[0m\u001B[37m\u001B[0m \u001B[1m2s\u001B[0m 100ms/step - loss: 6.9496e-04 - val_loss: 0.0013\n",
      "Epoch 65/100\n",
      "\u001B[1m16/16\u001B[0m \u001B[32m━━━━━━━━━━━━━━━━━━━━\u001B[0m\u001B[37m\u001B[0m \u001B[1m2s\u001B[0m 100ms/step - loss: 6.3640e-04 - val_loss: 0.0011\n",
      "Epoch 66/100\n",
      "\u001B[1m16/16\u001B[0m \u001B[32m━━━━━━━━━━━━━━━━━━━━\u001B[0m\u001B[37m\u001B[0m \u001B[1m2s\u001B[0m 104ms/step - loss: 6.5151e-04 - val_loss: 0.0011\n",
      "Epoch 67/100\n",
      "\u001B[1m16/16\u001B[0m \u001B[32m━━━━━━━━━━━━━━━━━━━━\u001B[0m\u001B[37m\u001B[0m \u001B[1m2s\u001B[0m 101ms/step - loss: 5.6156e-04 - val_loss: 0.0011\n",
      "Epoch 68/100\n",
      "\u001B[1m16/16\u001B[0m \u001B[32m━━━━━━━━━━━━━━━━━━━━\u001B[0m\u001B[37m\u001B[0m \u001B[1m2s\u001B[0m 100ms/step - loss: 6.3702e-04 - val_loss: 0.0011\n",
      "Epoch 69/100\n",
      "\u001B[1m16/16\u001B[0m \u001B[32m━━━━━━━━━━━━━━━━━━━━\u001B[0m\u001B[37m\u001B[0m \u001B[1m2s\u001B[0m 102ms/step - loss: 6.8262e-04 - val_loss: 0.0013\n",
      "Epoch 70/100\n",
      "\u001B[1m16/16\u001B[0m \u001B[32m━━━━━━━━━━━━━━━━━━━━\u001B[0m\u001B[37m\u001B[0m \u001B[1m2s\u001B[0m 100ms/step - loss: 6.0185e-04 - val_loss: 0.0011\n",
      "Epoch 71/100\n",
      "\u001B[1m16/16\u001B[0m \u001B[32m━━━━━━━━━━━━━━━━━━━━\u001B[0m\u001B[37m\u001B[0m \u001B[1m2s\u001B[0m 102ms/step - loss: 6.0297e-04 - val_loss: 0.0011\n",
      "Epoch 72/100\n",
      "\u001B[1m16/16\u001B[0m \u001B[32m━━━━━━━━━━━━━━━━━━━━\u001B[0m\u001B[37m\u001B[0m \u001B[1m2s\u001B[0m 103ms/step - loss: 6.0484e-04 - val_loss: 0.0011\n",
      "Epoch 73/100\n",
      "\u001B[1m16/16\u001B[0m \u001B[32m━━━━━━━━━━━━━━━━━━━━\u001B[0m\u001B[37m\u001B[0m \u001B[1m2s\u001B[0m 101ms/step - loss: 5.8420e-04 - val_loss: 0.0012\n",
      "Epoch 74/100\n",
      "\u001B[1m16/16\u001B[0m \u001B[32m━━━━━━━━━━━━━━━━━━━━\u001B[0m\u001B[37m\u001B[0m \u001B[1m2s\u001B[0m 102ms/step - loss: 6.1960e-04 - val_loss: 0.0017\n",
      "Epoch 75/100\n",
      "\u001B[1m16/16\u001B[0m \u001B[32m━━━━━━━━━━━━━━━━━━━━\u001B[0m\u001B[37m\u001B[0m \u001B[1m2s\u001B[0m 102ms/step - loss: 7.1246e-04 - val_loss: 0.0011\n",
      "Epoch 76/100\n",
      "\u001B[1m16/16\u001B[0m \u001B[32m━━━━━━━━━━━━━━━━━━━━\u001B[0m\u001B[37m\u001B[0m \u001B[1m2s\u001B[0m 101ms/step - loss: 6.1095e-04 - val_loss: 0.0014\n",
      "Epoch 77/100\n",
      "\u001B[1m16/16\u001B[0m \u001B[32m━━━━━━━━━━━━━━━━━━━━\u001B[0m\u001B[37m\u001B[0m \u001B[1m2s\u001B[0m 101ms/step - loss: 6.2279e-04 - val_loss: 0.0011\n",
      "Epoch 78/100\n",
      "\u001B[1m16/16\u001B[0m \u001B[32m━━━━━━━━━━━━━━━━━━━━\u001B[0m\u001B[37m\u001B[0m \u001B[1m2s\u001B[0m 102ms/step - loss: 5.6226e-04 - val_loss: 0.0014\n",
      "Epoch 79/100\n",
      "\u001B[1m16/16\u001B[0m \u001B[32m━━━━━━━━━━━━━━━━━━━━\u001B[0m\u001B[37m\u001B[0m \u001B[1m2s\u001B[0m 101ms/step - loss: 6.5621e-04 - val_loss: 0.0014\n",
      "Epoch 80/100\n",
      "\u001B[1m16/16\u001B[0m \u001B[32m━━━━━━━━━━━━━━━━━━━━\u001B[0m\u001B[37m\u001B[0m \u001B[1m2s\u001B[0m 103ms/step - loss: 6.9084e-04 - val_loss: 0.0011\n",
      "Epoch 81/100\n",
      "\u001B[1m16/16\u001B[0m \u001B[32m━━━━━━━━━━━━━━━━━━━━\u001B[0m\u001B[37m\u001B[0m \u001B[1m2s\u001B[0m 106ms/step - loss: 5.2897e-04 - val_loss: 0.0020\n",
      "Epoch 82/100\n",
      "\u001B[1m16/16\u001B[0m \u001B[32m━━━━━━━━━━━━━━━━━━━━\u001B[0m\u001B[37m\u001B[0m \u001B[1m2s\u001B[0m 105ms/step - loss: 6.3107e-04 - val_loss: 0.0021\n",
      "Epoch 83/100\n",
      "\u001B[1m16/16\u001B[0m \u001B[32m━━━━━━━━━━━━━━━━━━━━\u001B[0m\u001B[37m\u001B[0m \u001B[1m2s\u001B[0m 100ms/step - loss: 7.0393e-04 - val_loss: 0.0018\n",
      "Epoch 84/100\n",
      "\u001B[1m16/16\u001B[0m \u001B[32m━━━━━━━━━━━━━━━━━━━━\u001B[0m\u001B[37m\u001B[0m \u001B[1m2s\u001B[0m 101ms/step - loss: 6.5854e-04 - val_loss: 0.0021\n",
      "Epoch 85/100\n",
      "\u001B[1m16/16\u001B[0m \u001B[32m━━━━━━━━━━━━━━━━━━━━\u001B[0m\u001B[37m\u001B[0m \u001B[1m2s\u001B[0m 101ms/step - loss: 7.1192e-04 - val_loss: 0.0011\n",
      "Epoch 86/100\n",
      "\u001B[1m16/16\u001B[0m \u001B[32m━━━━━━━━━━━━━━━━━━━━\u001B[0m\u001B[37m\u001B[0m \u001B[1m2s\u001B[0m 102ms/step - loss: 5.3637e-04 - val_loss: 0.0020\n",
      "Epoch 87/100\n",
      "\u001B[1m16/16\u001B[0m \u001B[32m━━━━━━━━━━━━━━━━━━━━\u001B[0m\u001B[37m\u001B[0m \u001B[1m2s\u001B[0m 105ms/step - loss: 6.3220e-04 - val_loss: 0.0013\n",
      "Epoch 88/100\n",
      "\u001B[1m16/16\u001B[0m \u001B[32m━━━━━━━━━━━━━━━━━━━━\u001B[0m\u001B[37m\u001B[0m \u001B[1m2s\u001B[0m 102ms/step - loss: 7.4307e-04 - val_loss: 0.0014\n",
      "Epoch 89/100\n",
      "\u001B[1m16/16\u001B[0m \u001B[32m━━━━━━━━━━━━━━━━━━━━\u001B[0m\u001B[37m\u001B[0m \u001B[1m2s\u001B[0m 101ms/step - loss: 6.6878e-04 - val_loss: 0.0015\n",
      "Epoch 90/100\n",
      "\u001B[1m16/16\u001B[0m \u001B[32m━━━━━━━━━━━━━━━━━━━━\u001B[0m\u001B[37m\u001B[0m \u001B[1m2s\u001B[0m 99ms/step - loss: 6.1268e-04 - val_loss: 0.0012\n",
      "Epoch 91/100\n",
      "\u001B[1m16/16\u001B[0m \u001B[32m━━━━━━━━━━━━━━━━━━━━\u001B[0m\u001B[37m\u001B[0m \u001B[1m2s\u001B[0m 98ms/step - loss: 5.6563e-04 - val_loss: 0.0013\n",
      "Epoch 92/100\n",
      "\u001B[1m16/16\u001B[0m \u001B[32m━━━━━━━━━━━━━━━━━━━━\u001B[0m\u001B[37m\u001B[0m \u001B[1m2s\u001B[0m 100ms/step - loss: 5.7596e-04 - val_loss: 0.0014\n",
      "Epoch 93/100\n",
      "\u001B[1m16/16\u001B[0m \u001B[32m━━━━━━━━━━━━━━━━━━━━\u001B[0m\u001B[37m\u001B[0m \u001B[1m2s\u001B[0m 101ms/step - loss: 6.1959e-04 - val_loss: 0.0017\n",
      "Epoch 94/100\n",
      "\u001B[1m16/16\u001B[0m \u001B[32m━━━━━━━━━━━━━━━━━━━━\u001B[0m\u001B[37m\u001B[0m \u001B[1m2s\u001B[0m 108ms/step - loss: 6.2708e-04 - val_loss: 0.0011\n",
      "Epoch 95/100\n",
      "\u001B[1m16/16\u001B[0m \u001B[32m━━━━━━━━━━━━━━━━━━━━\u001B[0m\u001B[37m\u001B[0m \u001B[1m2s\u001B[0m 103ms/step - loss: 6.7666e-04 - val_loss: 0.0011\n",
      "Epoch 96/100\n",
      "\u001B[1m16/16\u001B[0m \u001B[32m━━━━━━━━━━━━━━━━━━━━\u001B[0m\u001B[37m\u001B[0m \u001B[1m2s\u001B[0m 104ms/step - loss: 6.4334e-04 - val_loss: 0.0011\n",
      "Epoch 97/100\n",
      "\u001B[1m16/16\u001B[0m \u001B[32m━━━━━━━━━━━━━━━━━━━━\u001B[0m\u001B[37m\u001B[0m \u001B[1m2s\u001B[0m 109ms/step - loss: 5.3794e-04 - val_loss: 0.0011\n",
      "Epoch 98/100\n",
      "\u001B[1m16/16\u001B[0m \u001B[32m━━━━━━━━━━━━━━━━━━━━\u001B[0m\u001B[37m\u001B[0m \u001B[1m2s\u001B[0m 115ms/step - loss: 6.1258e-04 - val_loss: 0.0017\n",
      "Epoch 99/100\n",
      "\u001B[1m16/16\u001B[0m \u001B[32m━━━━━━━━━━━━━━━━━━━━\u001B[0m\u001B[37m\u001B[0m \u001B[1m2s\u001B[0m 118ms/step - loss: 6.6506e-04 - val_loss: 0.0012\n",
      "Epoch 100/100\n",
      "\u001B[1m16/16\u001B[0m \u001B[32m━━━━━━━━━━━━━━━━━━━━\u001B[0m\u001B[37m\u001B[0m \u001B[1m2s\u001B[0m 107ms/step - loss: 5.9640e-04 - val_loss: 0.0014\n"
     ]
    },
    {
     "data": {
      "text/plain": "<keras.src.callbacks.history.History at 0x239025a51b0>"
     },
     "execution_count": 92,
     "metadata": {},
     "output_type": "execute_result"
    }
   ],
   "source": [
    "# Kompilacja modelu\n",
    "model.compile(optimizer='adam', loss='mean_squared_error')\n",
    "\n",
    "# 8. Trenowanie modelu\n",
    "model.fit(X_train, y_train, validation_data=(X_test, y_test), epochs=100, batch_size=64, verbose=1)"
   ],
   "metadata": {
    "collapsed": false,
    "ExecuteTime": {
     "end_time": "2024-10-12T09:08:44.427964Z",
     "start_time": "2024-10-12T09:05:56.275820Z"
    }
   },
   "id": "a655e502090bc49a",
   "execution_count": 92
  },
  {
   "cell_type": "code",
   "outputs": [
    {
     "name": "stdout",
     "output_type": "stream",
     "text": [
      "\u001B[1m9/9\u001B[0m \u001B[32m━━━━━━━━━━━━━━━━━━━━\u001B[0m\u001B[37m\u001B[0m \u001B[1m1s\u001B[0m 48ms/step\n",
      "[[0.5068984 ]\n",
      " [0.5404878 ]\n",
      " [0.5586287 ]\n",
      " [0.5238363 ]\n",
      " [0.54269344]\n",
      " [0.542999  ]\n",
      " [0.5405647 ]\n",
      " [0.5393271 ]\n",
      " [0.59288865]\n",
      " [0.58279914]]\n"
     ]
    }
   ],
   "source": [
    "# 9. Predykcja na danych testowych\n",
    "predictions = model.predict(X_test)\n",
    "print(predictions[:10])"
   ],
   "metadata": {
    "collapsed": false,
    "ExecuteTime": {
     "end_time": "2024-10-12T09:08:45.110954Z",
     "start_time": "2024-10-12T09:08:44.430960Z"
    }
   },
   "id": "24ffe8dbcefa7229",
   "execution_count": 93
  },
  {
   "cell_type": "code",
   "outputs": [
    {
     "name": "stdout",
     "output_type": "stream",
     "text": [
      "[[44167.33203125]\n",
      " [44957.96875   ]\n",
      " [42848.17578125]\n",
      " [44179.921875  ]\n",
      " [44162.69140625]\n",
      " [43989.1953125 ]\n",
      " [43943.09765625]\n",
      " [46970.50390625]\n",
      " [46139.73046875]\n",
      " [46627.77734375]]\n"
     ]
    }
   ],
   "source": [
    "# 10. Odwrotna transformacja dla porównania z rzeczywistymi danymi\n",
    "predictions = scaler.inverse_transform(predictions.reshape(-1, 1))\n",
    "y_test = scaler.inverse_transform(y_test.reshape(-1, 1))\n",
    "print(y_test[:10])"
   ],
   "metadata": {
    "collapsed": false,
    "ExecuteTime": {
     "end_time": "2024-10-12T09:08:45.126990Z",
     "start_time": "2024-10-12T09:08:45.111956Z"
    }
   },
   "id": "1a0796ef61912ae8",
   "execution_count": 94
  },
  {
   "cell_type": "code",
   "outputs": [
    {
     "name": "stdout",
     "output_type": "stream",
     "text": [
      "284\n",
      "284\n"
     ]
    }
   ],
   "source": [
    "print(len(predictions))\n",
    "print(len(X_test))"
   ],
   "metadata": {
    "collapsed": false,
    "ExecuteTime": {
     "end_time": "2024-10-12T09:08:45.142955Z",
     "start_time": "2024-10-12T09:08:45.128956Z"
    }
   },
   "id": "b7fff0ef4c27b485",
   "execution_count": 95
  },
  {
   "cell_type": "code",
   "outputs": [
    {
     "name": "stdout",
     "output_type": "stream",
     "text": [
      "284\n",
      "285\n"
     ]
    },
    {
     "ename": "ConversionError",
     "evalue": "Failed to convert value(s) to axis units: '2024-01-01'",
     "output_type": "error",
     "traceback": [
      "\u001B[1;31m---------------------------------------------------------------------------\u001B[0m",
      "\u001B[1;31mIndexError\u001B[0m                                Traceback (most recent call last)",
      "File \u001B[1;32m~\\Desktop\\crypto\\venv\\lib\\site-packages\\matplotlib\\axis.py:1813\u001B[0m, in \u001B[0;36mAxis.convert_units\u001B[1;34m(self, x)\u001B[0m\n\u001B[0;32m   1812\u001B[0m \u001B[38;5;28;01mtry\u001B[39;00m:\n\u001B[1;32m-> 1813\u001B[0m     ret \u001B[38;5;241m=\u001B[39m \u001B[38;5;28;43mself\u001B[39;49m\u001B[38;5;241;43m.\u001B[39;49m\u001B[43mconverter\u001B[49m\u001B[38;5;241;43m.\u001B[39;49m\u001B[43mconvert\u001B[49m\u001B[43m(\u001B[49m\u001B[43mx\u001B[49m\u001B[43m,\u001B[49m\u001B[43m \u001B[49m\u001B[38;5;28;43mself\u001B[39;49m\u001B[38;5;241;43m.\u001B[39;49m\u001B[43munits\u001B[49m\u001B[43m,\u001B[49m\u001B[43m \u001B[49m\u001B[38;5;28;43mself\u001B[39;49m\u001B[43m)\u001B[49m\n\u001B[0;32m   1814\u001B[0m \u001B[38;5;28;01mexcept\u001B[39;00m \u001B[38;5;167;01mException\u001B[39;00m \u001B[38;5;28;01mas\u001B[39;00m e:\n",
      "File \u001B[1;32m~\\Desktop\\crypto\\venv\\lib\\site-packages\\matplotlib\\dates.py:1829\u001B[0m, in \u001B[0;36m_SwitchableDateConverter.convert\u001B[1;34m(self, *args, **kwargs)\u001B[0m\n\u001B[0;32m   1828\u001B[0m \u001B[38;5;28;01mdef\u001B[39;00m \u001B[38;5;21mconvert\u001B[39m(\u001B[38;5;28mself\u001B[39m, \u001B[38;5;241m*\u001B[39margs, \u001B[38;5;241m*\u001B[39m\u001B[38;5;241m*\u001B[39mkwargs):\n\u001B[1;32m-> 1829\u001B[0m     \u001B[38;5;28;01mreturn\u001B[39;00m \u001B[38;5;28mself\u001B[39m\u001B[38;5;241m.\u001B[39m_get_converter()\u001B[38;5;241m.\u001B[39mconvert(\u001B[38;5;241m*\u001B[39margs, \u001B[38;5;241m*\u001B[39m\u001B[38;5;241m*\u001B[39mkwargs)\n",
      "File \u001B[1;32m~\\Desktop\\crypto\\venv\\lib\\site-packages\\matplotlib\\dates.py:1757\u001B[0m, in \u001B[0;36mDateConverter.convert\u001B[1;34m(value, unit, axis)\u001B[0m\n\u001B[0;32m   1751\u001B[0m \u001B[38;5;250m\u001B[39m\u001B[38;5;124;03m\"\"\"\u001B[39;00m\n\u001B[0;32m   1752\u001B[0m \u001B[38;5;124;03mIf *value* is not already a number or sequence of numbers, convert it\u001B[39;00m\n\u001B[0;32m   1753\u001B[0m \u001B[38;5;124;03mwith `date2num`.\u001B[39;00m\n\u001B[0;32m   1754\u001B[0m \n\u001B[0;32m   1755\u001B[0m \u001B[38;5;124;03mThe *unit* and *axis* arguments are not used.\u001B[39;00m\n\u001B[0;32m   1756\u001B[0m \u001B[38;5;124;03m\"\"\"\u001B[39;00m\n\u001B[1;32m-> 1757\u001B[0m \u001B[38;5;28;01mreturn\u001B[39;00m \u001B[43mdate2num\u001B[49m\u001B[43m(\u001B[49m\u001B[43mvalue\u001B[49m\u001B[43m)\u001B[49m\n",
      "File \u001B[1;32m~\\Desktop\\crypto\\venv\\lib\\site-packages\\matplotlib\\dates.py:444\u001B[0m, in \u001B[0;36mdate2num\u001B[1;34m(d)\u001B[0m\n\u001B[0;32m    443\u001B[0m     \u001B[38;5;28;01mreturn\u001B[39;00m d\n\u001B[1;32m--> 444\u001B[0m tzi \u001B[38;5;241m=\u001B[39m \u001B[38;5;28mgetattr\u001B[39m(\u001B[43md\u001B[49m\u001B[43m[\u001B[49m\u001B[38;5;241;43m0\u001B[39;49m\u001B[43m]\u001B[49m, \u001B[38;5;124m'\u001B[39m\u001B[38;5;124mtzinfo\u001B[39m\u001B[38;5;124m'\u001B[39m, \u001B[38;5;28;01mNone\u001B[39;00m)\n\u001B[0;32m    445\u001B[0m \u001B[38;5;28;01mif\u001B[39;00m tzi \u001B[38;5;129;01mis\u001B[39;00m \u001B[38;5;129;01mnot\u001B[39;00m \u001B[38;5;28;01mNone\u001B[39;00m:\n\u001B[0;32m    446\u001B[0m     \u001B[38;5;66;03m# make datetime naive:\u001B[39;00m\n",
      "\u001B[1;31mIndexError\u001B[0m: too many indices for array: array is 0-dimensional, but 1 were indexed",
      "\nThe above exception was the direct cause of the following exception:\n",
      "\u001B[1;31mConversionError\u001B[0m                           Traceback (most recent call last)",
      "Cell \u001B[1;32mIn[96], line 21\u001B[0m\n\u001B[0;32m     19\u001B[0m plt\u001B[38;5;241m.\u001B[39mlegend()\n\u001B[0;32m     20\u001B[0m plt\u001B[38;5;241m.\u001B[39mxticks(rotation\u001B[38;5;241m=\u001B[39m\u001B[38;5;241m45\u001B[39m)\n\u001B[1;32m---> 21\u001B[0m \u001B[43mplt\u001B[49m\u001B[38;5;241;43m.\u001B[39;49m\u001B[43mxlim\u001B[49m\u001B[43m(\u001B[49m\u001B[43m[\u001B[49m\u001B[43mpredict_start_date\u001B[49m\u001B[43m,\u001B[49m\u001B[43m \u001B[49m\u001B[43mpredict_end_date\u001B[49m\u001B[43m]\u001B[49m\u001B[43m)\u001B[49m  \u001B[38;5;66;03m# Ustawiamy zakres osi X\u001B[39;00m\n\u001B[0;32m     22\u001B[0m plt\u001B[38;5;241m.\u001B[39mshow()\n\u001B[0;32m     24\u001B[0m \u001B[38;5;28mprint\u001B[39m(predictions)\n",
      "File \u001B[1;32m~\\Desktop\\crypto\\venv\\lib\\site-packages\\matplotlib\\pyplot.py:2107\u001B[0m, in \u001B[0;36mxlim\u001B[1;34m(*args, **kwargs)\u001B[0m\n\u001B[0;32m   2105\u001B[0m \u001B[38;5;28;01mif\u001B[39;00m \u001B[38;5;129;01mnot\u001B[39;00m args \u001B[38;5;129;01mand\u001B[39;00m \u001B[38;5;129;01mnot\u001B[39;00m kwargs:\n\u001B[0;32m   2106\u001B[0m     \u001B[38;5;28;01mreturn\u001B[39;00m ax\u001B[38;5;241m.\u001B[39mget_xlim()\n\u001B[1;32m-> 2107\u001B[0m ret \u001B[38;5;241m=\u001B[39m ax\u001B[38;5;241m.\u001B[39mset_xlim(\u001B[38;5;241m*\u001B[39margs, \u001B[38;5;241m*\u001B[39m\u001B[38;5;241m*\u001B[39mkwargs)\n\u001B[0;32m   2108\u001B[0m \u001B[38;5;28;01mreturn\u001B[39;00m ret\n",
      "File \u001B[1;32m~\\Desktop\\crypto\\venv\\lib\\site-packages\\matplotlib\\axes\\_base.py:3739\u001B[0m, in \u001B[0;36m_AxesBase.set_xlim\u001B[1;34m(self, left, right, emit, auto, xmin, xmax)\u001B[0m\n\u001B[0;32m   3737\u001B[0m         \u001B[38;5;28;01mraise\u001B[39;00m \u001B[38;5;167;01mTypeError\u001B[39;00m(\u001B[38;5;124m\"\u001B[39m\u001B[38;5;124mCannot pass both \u001B[39m\u001B[38;5;124m'\u001B[39m\u001B[38;5;124mright\u001B[39m\u001B[38;5;124m'\u001B[39m\u001B[38;5;124m and \u001B[39m\u001B[38;5;124m'\u001B[39m\u001B[38;5;124mxmax\u001B[39m\u001B[38;5;124m'\u001B[39m\u001B[38;5;124m\"\u001B[39m)\n\u001B[0;32m   3738\u001B[0m     right \u001B[38;5;241m=\u001B[39m xmax\n\u001B[1;32m-> 3739\u001B[0m \u001B[38;5;28;01mreturn\u001B[39;00m \u001B[38;5;28;43mself\u001B[39;49m\u001B[38;5;241;43m.\u001B[39;49m\u001B[43mxaxis\u001B[49m\u001B[38;5;241;43m.\u001B[39;49m\u001B[43m_set_lim\u001B[49m\u001B[43m(\u001B[49m\u001B[43mleft\u001B[49m\u001B[43m,\u001B[49m\u001B[43m \u001B[49m\u001B[43mright\u001B[49m\u001B[43m,\u001B[49m\u001B[43m \u001B[49m\u001B[43memit\u001B[49m\u001B[38;5;241;43m=\u001B[39;49m\u001B[43memit\u001B[49m\u001B[43m,\u001B[49m\u001B[43m \u001B[49m\u001B[43mauto\u001B[49m\u001B[38;5;241;43m=\u001B[39;49m\u001B[43mauto\u001B[49m\u001B[43m)\u001B[49m\n",
      "File \u001B[1;32m~\\Desktop\\crypto\\venv\\lib\\site-packages\\matplotlib\\axis.py:1236\u001B[0m, in \u001B[0;36mAxis._set_lim\u001B[1;34m(self, v0, v1, emit, auto)\u001B[0m\n\u001B[0;32m   1233\u001B[0m name \u001B[38;5;241m=\u001B[39m \u001B[38;5;28mself\u001B[39m\u001B[38;5;241m.\u001B[39m_get_axis_name()\n\u001B[0;32m   1235\u001B[0m \u001B[38;5;28mself\u001B[39m\u001B[38;5;241m.\u001B[39maxes\u001B[38;5;241m.\u001B[39m_process_unit_info([(name, (v0, v1))], convert\u001B[38;5;241m=\u001B[39m\u001B[38;5;28;01mFalse\u001B[39;00m)\n\u001B[1;32m-> 1236\u001B[0m v0 \u001B[38;5;241m=\u001B[39m \u001B[38;5;28;43mself\u001B[39;49m\u001B[38;5;241;43m.\u001B[39;49m\u001B[43maxes\u001B[49m\u001B[38;5;241;43m.\u001B[39;49m\u001B[43m_validate_converted_limits\u001B[49m\u001B[43m(\u001B[49m\u001B[43mv0\u001B[49m\u001B[43m,\u001B[49m\u001B[43m \u001B[49m\u001B[38;5;28;43mself\u001B[39;49m\u001B[38;5;241;43m.\u001B[39;49m\u001B[43mconvert_units\u001B[49m\u001B[43m)\u001B[49m\n\u001B[0;32m   1237\u001B[0m v1 \u001B[38;5;241m=\u001B[39m \u001B[38;5;28mself\u001B[39m\u001B[38;5;241m.\u001B[39maxes\u001B[38;5;241m.\u001B[39m_validate_converted_limits(v1, \u001B[38;5;28mself\u001B[39m\u001B[38;5;241m.\u001B[39mconvert_units)\n\u001B[0;32m   1239\u001B[0m \u001B[38;5;28;01mif\u001B[39;00m v0 \u001B[38;5;129;01mis\u001B[39;00m \u001B[38;5;28;01mNone\u001B[39;00m \u001B[38;5;129;01mor\u001B[39;00m v1 \u001B[38;5;129;01mis\u001B[39;00m \u001B[38;5;28;01mNone\u001B[39;00m:\n\u001B[0;32m   1240\u001B[0m     \u001B[38;5;66;03m# Axes init calls set_xlim(0, 1) before get_xlim() can be called,\u001B[39;00m\n\u001B[0;32m   1241\u001B[0m     \u001B[38;5;66;03m# so only grab the limits if we really need them.\u001B[39;00m\n",
      "File \u001B[1;32m~\\Desktop\\crypto\\venv\\lib\\site-packages\\matplotlib\\axes\\_base.py:3655\u001B[0m, in \u001B[0;36m_AxesBase._validate_converted_limits\u001B[1;34m(self, limit, convert)\u001B[0m\n\u001B[0;32m   3645\u001B[0m \u001B[38;5;250m\u001B[39m\u001B[38;5;124;03m\"\"\"\u001B[39;00m\n\u001B[0;32m   3646\u001B[0m \u001B[38;5;124;03mRaise ValueError if converted limits are non-finite.\u001B[39;00m\n\u001B[0;32m   3647\u001B[0m \n\u001B[1;32m   (...)\u001B[0m\n\u001B[0;32m   3652\u001B[0m \u001B[38;5;124;03mThe limit value after call to convert(), or None if limit is None.\u001B[39;00m\n\u001B[0;32m   3653\u001B[0m \u001B[38;5;124;03m\"\"\"\u001B[39;00m\n\u001B[0;32m   3654\u001B[0m \u001B[38;5;28;01mif\u001B[39;00m limit \u001B[38;5;129;01mis\u001B[39;00m \u001B[38;5;129;01mnot\u001B[39;00m \u001B[38;5;28;01mNone\u001B[39;00m:\n\u001B[1;32m-> 3655\u001B[0m     converted_limit \u001B[38;5;241m=\u001B[39m \u001B[43mconvert\u001B[49m\u001B[43m(\u001B[49m\u001B[43mlimit\u001B[49m\u001B[43m)\u001B[49m\n\u001B[0;32m   3656\u001B[0m     \u001B[38;5;28;01mif\u001B[39;00m \u001B[38;5;28misinstance\u001B[39m(converted_limit, np\u001B[38;5;241m.\u001B[39mndarray):\n\u001B[0;32m   3657\u001B[0m         converted_limit \u001B[38;5;241m=\u001B[39m converted_limit\u001B[38;5;241m.\u001B[39msqueeze()\n",
      "File \u001B[1;32m~\\Desktop\\crypto\\venv\\lib\\site-packages\\matplotlib\\axis.py:1815\u001B[0m, in \u001B[0;36mAxis.convert_units\u001B[1;34m(self, x)\u001B[0m\n\u001B[0;32m   1813\u001B[0m     ret \u001B[38;5;241m=\u001B[39m \u001B[38;5;28mself\u001B[39m\u001B[38;5;241m.\u001B[39mconverter\u001B[38;5;241m.\u001B[39mconvert(x, \u001B[38;5;28mself\u001B[39m\u001B[38;5;241m.\u001B[39munits, \u001B[38;5;28mself\u001B[39m)\n\u001B[0;32m   1814\u001B[0m \u001B[38;5;28;01mexcept\u001B[39;00m \u001B[38;5;167;01mException\u001B[39;00m \u001B[38;5;28;01mas\u001B[39;00m e:\n\u001B[1;32m-> 1815\u001B[0m     \u001B[38;5;28;01mraise\u001B[39;00m munits\u001B[38;5;241m.\u001B[39mConversionError(\u001B[38;5;124m'\u001B[39m\u001B[38;5;124mFailed to convert value(s) to axis \u001B[39m\u001B[38;5;124m'\u001B[39m\n\u001B[0;32m   1816\u001B[0m                                  \u001B[38;5;124mf\u001B[39m\u001B[38;5;124m'\u001B[39m\u001B[38;5;124munits: \u001B[39m\u001B[38;5;132;01m{\u001B[39;00mx\u001B[38;5;132;01m!r}\u001B[39;00m\u001B[38;5;124m'\u001B[39m) \u001B[38;5;28;01mfrom\u001B[39;00m \u001B[38;5;21;01me\u001B[39;00m\n\u001B[0;32m   1817\u001B[0m \u001B[38;5;28;01mreturn\u001B[39;00m ret\n",
      "\u001B[1;31mConversionError\u001B[0m: Failed to convert value(s) to axis units: '2024-01-01'"
     ]
    },
    {
     "data": {
      "text/plain": "<Figure size 1000x500 with 1 Axes>",
      "image/png": "[encoded data removed]"
     },
     "metadata": {},
     "output_type": "display_data"
    }
   ],
   "source": [
    "# Wizualizacja prognozy i rzeczywistych danych dla roku 2023\n",
    "plt.figure(figsize=(10, 5))\n",
    "\n",
    "# Daty testowe (dla prognoz)\n",
    "test_dates = btc.loc[new_date.strftime('%Y-%m-%d'):predict_end_date].index[time_step + 1:len(predictions) + time_step + 1]\n",
    "print(len(test_dates))\n",
    "# Wykres przewidywań\n",
    "plt.plot(test_dates, predictions, label='Predicted', color='red')\n",
    "\n",
    "# Wyświetlanie rzeczywistych cen dla tego okresu\n",
    "actual_prices = btc['Close'].loc[predict_start_date:predict_end_date]\n",
    "actual_dates = actual_prices.index\n",
    "print(len(actual_dates))\n",
    "plt.plot(actual_dates, actual_prices, label='Actual', color='blue')\n",
    "\n",
    "plt.title(f'Bitcoin Price Prediction ({predict_start_date} - {predict_end_date})')\n",
    "plt.xlabel('Date')\n",
    "plt.ylabel('Price (USD)')\n",
    "plt.legend()\n",
    "plt.xticks(rotation=45)\n",
    "plt.xlim([predict_start_date, predict_end_date])  # Ustawiamy zakres osi X\n",
    "plt.show()\n",
    "\n",
    "print(predictions)\n"
   ],
   "metadata": {
    "collapsed": false,
    "ExecuteTime": {
     "end_time": "2024-10-12T09:08:45.459956Z",
     "start_time": "2024-10-12T09:08:45.144957Z"
    }
   },
   "id": "c557f0e24027f30f",
   "execution_count": 96
  }
 ],
 "metadata": {
  "kernelspec": {
   "display_name": "Python 3",
   "language": "python",
   "name": "python3"
  },
  "language_info": {
   "codemirror_mode": {
    "name": "ipython",
    "version": 2
   },
   "file_extension": ".py",
   "mimetype": "text/x-python",
   "name": "python",
   "nbconvert_exporter": "python",
   "pygments_lexer": "ipython2",
   "version": "2.7.6"
  }
 },
 "nbformat": 4,
 "nbformat_minor": 5
}
