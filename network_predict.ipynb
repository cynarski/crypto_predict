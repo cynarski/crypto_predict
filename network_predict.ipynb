{
 "cells": [
  {
   "cell_type": "code",
   "outputs": [],
   "source": [
    "import numpy as np\n",
    "import pandas as pd\n",
    "import matplotlib.pyplot as plt\n",
    "import tensorflow as tf\n",
    "from sklearn.preprocessing import MinMaxScaler\n",
    "import yfinance as yf"
   ],
   "metadata": {
    "collapsed": false,
    "ExecuteTime": {
     "end_time": "2024-10-09T11:31:31.328175Z",
     "start_time": "2024-10-09T11:31:31.310174Z"
    }
   },
   "id": "cce5aed6e214e7f",
   "execution_count": 6
  },
  {
   "cell_type": "code",
   "outputs": [
    {
     "name": "stderr",
     "output_type": "stream",
     "text": [
      "[*********************100%***********************]  1 of 1 completed"
     ]
    },
    {
     "name": "stdout",
     "output_type": "stream",
     "text": [
      "                  Open        High         Low       Close   Adj Close  \\\n",
      "Date                                                                     \n",
      "2016-01-01  430.721008  436.246002  427.515015  434.334015  434.334015   \n",
      "2016-01-02  434.622009  436.062012  431.869995  433.437988  433.437988   \n",
      "2016-01-03  433.578003  433.743011  424.705994  430.010986  430.010986   \n",
      "2016-01-04  430.061005  434.516998  429.084015  433.091003  433.091003   \n",
      "2016-01-05  433.069000  434.182007  429.675995  431.959991  431.959991   \n",
      "\n",
      "              Volume  \n",
      "Date                  \n",
      "2016-01-01  36278900  \n",
      "2016-01-02  30096600  \n",
      "2016-01-03  39633800  \n",
      "2016-01-04  38477500  \n",
      "2016-01-05  34522600  \n"
     ]
    },
    {
     "name": "stderr",
     "output_type": "stream",
     "text": [
      "\n"
     ]
    }
   ],
   "source": [
    "train_start_date = '2016-01-01'\n",
    "train_end_date = '2022-12-31'\n",
    "predict_start_date = '2023-01-01'\n",
    "predict_end_date = '2023-12-31'\n",
    "\n",
    "btc = yf.download('BTC-USD', start=train_start_date, end=predict_end_date)\n",
    "print(btc.head())"
   ],
   "metadata": {
    "collapsed": false,
    "ExecuteTime": {
     "end_time": "2024-10-09T11:31:31.376175Z",
     "start_time": "2024-10-09T11:31:31.330175Z"
    }
   },
   "id": "b63be788fe51e0c4",
   "execution_count": 7
  },
  {
   "cell_type": "code",
   "outputs": [
    {
     "name": "stdout",
     "output_type": "stream",
     "text": [
      "2557 464\n",
      "                    Open          High           Low         Close  \\\n",
      "Date                                                                 \n",
      "2023-01-01  16547.914062  16630.439453  16521.234375  16625.080078   \n",
      "2023-01-02  16625.509766  16759.343750  16572.228516  16688.470703   \n",
      "2023-01-03  16688.847656  16760.447266  16622.371094  16679.857422   \n",
      "2023-01-04  16680.205078  16964.585938  16667.763672  16863.238281   \n",
      "2023-01-05  16863.472656  16884.021484  16790.283203  16836.736328   \n",
      "...                  ...           ...           ...           ...   \n",
      "2023-12-26  43599.847656  43603.175781  41676.488281  42520.402344   \n",
      "2023-12-27  42518.468750  43683.160156  42167.582031  43442.855469   \n",
      "2023-12-28  43468.199219  43804.781250  42318.550781  42627.855469   \n",
      "2023-12-29  42614.644531  43124.324219  41424.062500  42099.402344   \n",
      "2023-12-30  42091.753906  42584.125000  41556.226562  42156.902344   \n",
      "\n",
      "               Adj Close       Volume  \n",
      "Date                                   \n",
      "2023-01-01  16625.080078   9244361700  \n",
      "2023-01-02  16688.470703  12097775227  \n",
      "2023-01-03  16679.857422  13903079207  \n",
      "2023-01-04  16863.238281  18421743322  \n",
      "2023-01-05  16836.736328  13692758566  \n",
      "...                  ...          ...  \n",
      "2023-12-26  42520.402344  30026850982  \n",
      "2023-12-27  43442.855469  25260941032  \n",
      "2023-12-28  42627.855469  22992093014  \n",
      "2023-12-29  42099.402344  26000021055  \n",
      "2023-12-30  42156.902344  16013925945  \n",
      "\n",
      "[364 rows x 6 columns]\n"
     ]
    }
   ],
   "source": [
    "# Wyodrębnij dane do treningu i testowania na podstawie dat\n",
    "date = pd.to_datetime(predict_start_date)\n",
    "new_date = date - pd.Timedelta(days=100)\n",
    "train_data = btc.loc[train_start_date:train_end_date]['Close'].values.reshape(-1, 1)\n",
    "test_data = btc.loc[new_date.strftime('%Y-%m-%d'):predict_end_date]['Close'].values.reshape(-1, 1)\n",
    "print(len(train_data), len(test_data))\n",
    "\n",
    "print(btc.loc[predict_start_date:predict_end_date])"
   ],
   "metadata": {
    "collapsed": false,
    "ExecuteTime": {
     "end_time": "2024-10-09T11:31:31.392175Z",
     "start_time": "2024-10-09T11:31:31.378176Z"
    }
   },
   "id": "c6343f40d50e2698",
   "execution_count": 8
  },
  {
   "cell_type": "code",
   "outputs": [
    {
     "name": "stdout",
     "output_type": "stream",
     "text": [
      "<class 'sklearn.preprocessing._data.MinMaxScaler'>\n",
      "2557 464\n"
     ]
    }
   ],
   "source": [
    "# 3. Normalizacja danych\n",
    "scaler = MinMaxScaler(feature_range=(0, 1))\n",
    "print(type(scaler))\n",
    "train_data_scaled = scaler.fit_transform(train_data)\n",
    "test_data_scaled = scaler.transform(test_data)\n",
    "print(len(train_data_scaled), len(test_data_scaled))"
   ],
   "metadata": {
    "collapsed": false,
    "ExecuteTime": {
     "end_time": "2024-10-09T11:31:31.408175Z",
     "start_time": "2024-10-09T11:31:31.394175Z"
    }
   },
   "id": "f74b4e95640e5335",
   "execution_count": 9
  },
  {
   "cell_type": "code",
   "outputs": [],
   "source": [
    "# 4. Podział danych na zestawy treningowe i testowe\n",
    "# train_size = int(len(btc_close_scaled) * 0.8)  # 80% danych do treningu\n",
    "# train_data, test_data = btc_close_scaled[0:train_size], btc_close_scaled[train_size:len(btc_close_scaled)]\n",
    "# print(train_size)\n",
    "# print(len(btc_close_scaled))\n"
   ],
   "metadata": {
    "collapsed": false,
    "ExecuteTime": {
     "end_time": "2024-10-09T11:31:31.424177Z",
     "start_time": "2024-10-09T11:31:31.410176Z"
    }
   },
   "id": "9caad27936e0971a",
   "execution_count": 10
  },
  {
   "cell_type": "code",
   "outputs": [],
   "source": [
    "# 5. Przygotowanie danych do LSTM\n",
    "def create_dataset(dataset, time_step=1):\n",
    "    dataX, dataY = [], []\n",
    "    for i in range(len(dataset) - time_step - 1):\n",
    "        a = dataset[i:(i + time_step), 0]\n",
    "        dataX.append(a)\n",
    "        dataY.append(dataset[i + time_step, 0])\n",
    "    return np.array(dataX), np.array(dataY)"
   ],
   "metadata": {
    "collapsed": false,
    "ExecuteTime": {
     "end_time": "2024-10-09T11:31:31.440174Z",
     "start_time": "2024-10-09T11:31:31.425174Z"
    }
   },
   "id": "e9ac8a0cb5f5e467",
   "execution_count": 11
  },
  {
   "cell_type": "code",
   "outputs": [],
   "source": [
    "time_step = 100\n",
    "X_train, y_train = create_dataset(train_data_scaled, time_step)\n",
    "X_test, y_test = create_dataset(test_data_scaled, time_step)\n"
   ],
   "metadata": {
    "collapsed": false,
    "ExecuteTime": {
     "end_time": "2024-10-09T11:31:31.456175Z",
     "start_time": "2024-10-09T11:31:31.442175Z"
    }
   },
   "id": "2273972b7f2f3794",
   "execution_count": 12
  },
  {
   "cell_type": "code",
   "outputs": [
    {
     "name": "stdout",
     "output_type": "stream",
     "text": [
      "2456 363\n"
     ]
    }
   ],
   "source": [
    "# 6. Konwersja danych do formatu akceptowanego przez LSTM (samples, time_steps, features)\n",
    "X_train = X_train.reshape(X_train.shape[0], X_train.shape[1], 1)\n",
    "X_test = X_test.reshape(X_test.shape[0], X_test.shape[1], 1)\n",
    "print(len(X_train), len(X_test))"
   ],
   "metadata": {
    "collapsed": false,
    "ExecuteTime": {
     "end_time": "2024-10-09T11:31:31.472176Z",
     "start_time": "2024-10-09T11:31:31.458175Z"
    }
   },
   "id": "d2268a44bdaeb757",
   "execution_count": 13
  },
  {
   "cell_type": "code",
   "outputs": [
    {
     "name": "stderr",
     "output_type": "stream",
     "text": [
      "C:\\Users\\Michał\\Desktop\\crypto\\venv\\lib\\site-packages\\keras\\src\\layers\\rnn\\rnn.py:204: UserWarning: Do not pass an `input_shape`/`input_dim` argument to a layer. When using Sequential models, prefer using an `Input(shape)` object as the first layer in the model instead.\n",
      "  super().__init__(**kwargs)\n"
     ]
    },
    {
     "data": {
      "text/plain": "\u001B[1mModel: \"sequential\"\u001B[0m\n",
      "text/html": "<pre style=\"white-space:pre;overflow-x:auto;line-height:normal;font-family:Menlo,'DejaVu Sans Mono',consolas,'Courier New',monospace\"><span style=\"font-weight: bold\">Model: \"sequential\"</span>\n</pre>\n"
     },
     "metadata": {},
     "output_type": "display_data"
    },
    {
     "data": {
      "text/plain": "┏━━━━━━━━━━━━━━━━━━━━━━━━━━━━━━━━━┳━━━━━━━━━━━━━━━━━━━━━━━━┳━━━━━━━━━━━━━━━┓\n┃\u001B[1m \u001B[0m\u001B[1mLayer (type)                   \u001B[0m\u001B[1m \u001B[0m┃\u001B[1m \u001B[0m\u001B[1mOutput Shape          \u001B[0m\u001B[1m \u001B[0m┃\u001B[1m \u001B[0m\u001B[1m      Param #\u001B[0m\u001B[1m \u001B[0m┃\n┡━━━━━━━━━━━━━━━━━━━━━━━━━━━━━━━━━╇━━━━━━━━━━━━━━━━━━━━━━━━╇━━━━━━━━━━━━━━━┩\n│ lstm (\u001B[38;5;33mLSTM\u001B[0m)                     │ (\u001B[38;5;45mNone\u001B[0m, \u001B[38;5;34m100\u001B[0m, \u001B[38;5;34m100\u001B[0m)       │        \u001B[38;5;34m40,800\u001B[0m │\n├─────────────────────────────────┼────────────────────────┼───────────────┤\n│ lstm_1 (\u001B[38;5;33mLSTM\u001B[0m)                   │ (\u001B[38;5;45mNone\u001B[0m, \u001B[38;5;34m100\u001B[0m)            │        \u001B[38;5;34m80,400\u001B[0m │\n├─────────────────────────────────┼────────────────────────┼───────────────┤\n│ dense (\u001B[38;5;33mDense\u001B[0m)                   │ (\u001B[38;5;45mNone\u001B[0m, \u001B[38;5;34m25\u001B[0m)             │         \u001B[38;5;34m2,525\u001B[0m │\n├─────────────────────────────────┼────────────────────────┼───────────────┤\n│ dense_1 (\u001B[38;5;33mDense\u001B[0m)                 │ (\u001B[38;5;45mNone\u001B[0m, \u001B[38;5;34m1\u001B[0m)              │            \u001B[38;5;34m26\u001B[0m │\n└─────────────────────────────────┴────────────────────────┴───────────────┘\n",
      "text/html": "<pre style=\"white-space:pre;overflow-x:auto;line-height:normal;font-family:Menlo,'DejaVu Sans Mono',consolas,'Courier New',monospace\">┏━━━━━━━━━━━━━━━━━━━━━━━━━━━━━━━━━┳━━━━━━━━━━━━━━━━━━━━━━━━┳━━━━━━━━━━━━━━━┓\n┃<span style=\"font-weight: bold\"> Layer (type)                    </span>┃<span style=\"font-weight: bold\"> Output Shape           </span>┃<span style=\"font-weight: bold\">       Param # </span>┃\n┡━━━━━━━━━━━━━━━━━━━━━━━━━━━━━━━━━╇━━━━━━━━━━━━━━━━━━━━━━━━╇━━━━━━━━━━━━━━━┩\n│ lstm (<span style=\"color: #0087ff; text-decoration-color: #0087ff\">LSTM</span>)                     │ (<span style=\"color: #00d7ff; text-decoration-color: #00d7ff\">None</span>, <span style=\"color: #00af00; text-decoration-color: #00af00\">100</span>, <span style=\"color: #00af00; text-decoration-color: #00af00\">100</span>)       │        <span style=\"color: #00af00; text-decoration-color: #00af00\">40,800</span> │\n├─────────────────────────────────┼────────────────────────┼───────────────┤\n│ lstm_1 (<span style=\"color: #0087ff; text-decoration-color: #0087ff\">LSTM</span>)                   │ (<span style=\"color: #00d7ff; text-decoration-color: #00d7ff\">None</span>, <span style=\"color: #00af00; text-decoration-color: #00af00\">100</span>)            │        <span style=\"color: #00af00; text-decoration-color: #00af00\">80,400</span> │\n├─────────────────────────────────┼────────────────────────┼───────────────┤\n│ dense (<span style=\"color: #0087ff; text-decoration-color: #0087ff\">Dense</span>)                   │ (<span style=\"color: #00d7ff; text-decoration-color: #00d7ff\">None</span>, <span style=\"color: #00af00; text-decoration-color: #00af00\">25</span>)             │         <span style=\"color: #00af00; text-decoration-color: #00af00\">2,525</span> │\n├─────────────────────────────────┼────────────────────────┼───────────────┤\n│ dense_1 (<span style=\"color: #0087ff; text-decoration-color: #0087ff\">Dense</span>)                 │ (<span style=\"color: #00d7ff; text-decoration-color: #00d7ff\">None</span>, <span style=\"color: #00af00; text-decoration-color: #00af00\">1</span>)              │            <span style=\"color: #00af00; text-decoration-color: #00af00\">26</span> │\n└─────────────────────────────────┴────────────────────────┴───────────────┘\n</pre>\n"
     },
     "metadata": {},
     "output_type": "display_data"
    },
    {
     "data": {
      "text/plain": "\u001B[1m Total params: \u001B[0m\u001B[38;5;34m123,751\u001B[0m (483.40 KB)\n",
      "text/html": "<pre style=\"white-space:pre;overflow-x:auto;line-height:normal;font-family:Menlo,'DejaVu Sans Mono',consolas,'Courier New',monospace\"><span style=\"font-weight: bold\"> Total params: </span><span style=\"color: #00af00; text-decoration-color: #00af00\">123,751</span> (483.40 KB)\n</pre>\n"
     },
     "metadata": {},
     "output_type": "display_data"
    },
    {
     "data": {
      "text/plain": "\u001B[1m Trainable params: \u001B[0m\u001B[38;5;34m123,751\u001B[0m (483.40 KB)\n",
      "text/html": "<pre style=\"white-space:pre;overflow-x:auto;line-height:normal;font-family:Menlo,'DejaVu Sans Mono',consolas,'Courier New',monospace\"><span style=\"font-weight: bold\"> Trainable params: </span><span style=\"color: #00af00; text-decoration-color: #00af00\">123,751</span> (483.40 KB)\n</pre>\n"
     },
     "metadata": {},
     "output_type": "display_data"
    },
    {
     "data": {
      "text/plain": "\u001B[1m Non-trainable params: \u001B[0m\u001B[38;5;34m0\u001B[0m (0.00 B)\n",
      "text/html": "<pre style=\"white-space:pre;overflow-x:auto;line-height:normal;font-family:Menlo,'DejaVu Sans Mono',consolas,'Courier New',monospace\"><span style=\"font-weight: bold\"> Non-trainable params: </span><span style=\"color: #00af00; text-decoration-color: #00af00\">0</span> (0.00 B)\n</pre>\n"
     },
     "metadata": {},
     "output_type": "display_data"
    }
   ],
   "source": [
    "# 7. Tworzenie modelu LSTM\n",
    "model = tf.keras.Sequential([\n",
    "    tf.keras.layers.LSTM(100, return_sequences=True, input_shape=(X_train.shape[1], 1)),\n",
    "    tf.keras.layers.LSTM(100, return_sequences=False),\n",
    "    tf.keras.layers.Dense(25),\n",
    "    tf.keras.layers.Dense(1)\n",
    "])\n",
    "model.summary()"
   ],
   "metadata": {
    "collapsed": false,
    "ExecuteTime": {
     "end_time": "2024-10-09T11:31:31.821174Z",
     "start_time": "2024-10-09T11:31:31.475176Z"
    }
   },
   "id": "c7838a7dde511ec5",
   "execution_count": 14
  },
  {
   "cell_type": "code",
   "outputs": [
    {
     "name": "stdout",
     "output_type": "stream",
     "text": [
      "Epoch 1/25\n",
      "\u001B[1m39/39\u001B[0m \u001B[32m━━━━━━━━━━━━━━━━━━━━\u001B[0m\u001B[37m\u001B[0m \u001B[1m8s\u001B[0m 113ms/step - loss: 0.0176 - val_loss: 0.0012\n",
      "Epoch 2/25\n",
      "\u001B[1m39/39\u001B[0m \u001B[32m━━━━━━━━━━━━━━━━━━━━\u001B[0m\u001B[37m\u001B[0m \u001B[1m4s\u001B[0m 102ms/step - loss: 9.8296e-04 - val_loss: 7.0186e-04\n",
      "Epoch 3/25\n",
      "\u001B[1m39/39\u001B[0m \u001B[32m━━━━━━━━━━━━━━━━━━━━\u001B[0m\u001B[37m\u001B[0m \u001B[1m4s\u001B[0m 102ms/step - loss: 7.3583e-04 - val_loss: 4.5452e-04\n",
      "Epoch 4/25\n",
      "\u001B[1m39/39\u001B[0m \u001B[32m━━━━━━━━━━━━━━━━━━━━\u001B[0m\u001B[37m\u001B[0m \u001B[1m4s\u001B[0m 95ms/step - loss: 6.8038e-04 - val_loss: 6.1695e-04\n",
      "Epoch 5/25\n",
      "\u001B[1m39/39\u001B[0m \u001B[32m━━━━━━━━━━━━━━━━━━━━\u001B[0m\u001B[37m\u001B[0m \u001B[1m4s\u001B[0m 94ms/step - loss: 7.5706e-04 - val_loss: 6.9173e-04\n",
      "Epoch 6/25\n",
      "\u001B[1m39/39\u001B[0m \u001B[32m━━━━━━━━━━━━━━━━━━━━\u001B[0m\u001B[37m\u001B[0m \u001B[1m4s\u001B[0m 91ms/step - loss: 7.2220e-04 - val_loss: 3.4940e-04\n",
      "Epoch 7/25\n",
      "\u001B[1m39/39\u001B[0m \u001B[32m━━━━━━━━━━━━━━━━━━━━\u001B[0m\u001B[37m\u001B[0m \u001B[1m4s\u001B[0m 89ms/step - loss: 5.9178e-04 - val_loss: 4.2304e-04\n",
      "Epoch 8/25\n",
      "\u001B[1m39/39\u001B[0m \u001B[32m━━━━━━━━━━━━━━━━━━━━\u001B[0m\u001B[37m\u001B[0m \u001B[1m4s\u001B[0m 92ms/step - loss: 6.8146e-04 - val_loss: 3.6956e-04\n",
      "Epoch 9/25\n",
      "\u001B[1m39/39\u001B[0m \u001B[32m━━━━━━━━━━━━━━━━━━━━\u001B[0m\u001B[37m\u001B[0m \u001B[1m4s\u001B[0m 91ms/step - loss: 4.8743e-04 - val_loss: 3.7040e-04\n",
      "Epoch 10/25\n",
      "\u001B[1m39/39\u001B[0m \u001B[32m━━━━━━━━━━━━━━━━━━━━\u001B[0m\u001B[37m\u001B[0m \u001B[1m4s\u001B[0m 91ms/step - loss: 4.7420e-04 - val_loss: 6.2744e-04\n",
      "Epoch 11/25\n",
      "\u001B[1m39/39\u001B[0m \u001B[32m━━━━━━━━━━━━━━━━━━━━\u001B[0m\u001B[37m\u001B[0m \u001B[1m3s\u001B[0m 89ms/step - loss: 5.2275e-04 - val_loss: 3.2969e-04\n",
      "Epoch 12/25\n",
      "\u001B[1m39/39\u001B[0m \u001B[32m━━━━━━━━━━━━━━━━━━━━\u001B[0m\u001B[37m\u001B[0m \u001B[1m4s\u001B[0m 92ms/step - loss: 4.0495e-04 - val_loss: 2.8255e-04\n",
      "Epoch 13/25\n",
      "\u001B[1m39/39\u001B[0m \u001B[32m━━━━━━━━━━━━━━━━━━━━\u001B[0m\u001B[37m\u001B[0m \u001B[1m4s\u001B[0m 90ms/step - loss: 4.7670e-04 - val_loss: 3.0600e-04\n",
      "Epoch 14/25\n",
      "\u001B[1m39/39\u001B[0m \u001B[32m━━━━━━━━━━━━━━━━━━━━\u001B[0m\u001B[37m\u001B[0m \u001B[1m4s\u001B[0m 93ms/step - loss: 3.9200e-04 - val_loss: 3.6230e-04\n",
      "Epoch 15/25\n",
      "\u001B[1m39/39\u001B[0m \u001B[32m━━━━━━━━━━━━━━━━━━━━\u001B[0m\u001B[37m\u001B[0m \u001B[1m4s\u001B[0m 92ms/step - loss: 3.9875e-04 - val_loss: 2.5506e-04\n",
      "Epoch 16/25\n",
      "\u001B[1m39/39\u001B[0m \u001B[32m━━━━━━━━━━━━━━━━━━━━\u001B[0m\u001B[37m\u001B[0m \u001B[1m4s\u001B[0m 95ms/step - loss: 3.3891e-04 - val_loss: 2.0645e-04\n",
      "Epoch 17/25\n",
      "\u001B[1m39/39\u001B[0m \u001B[32m━━━━━━━━━━━━━━━━━━━━\u001B[0m\u001B[37m\u001B[0m \u001B[1m4s\u001B[0m 98ms/step - loss: 3.6677e-04 - val_loss: 4.0838e-04\n",
      "Epoch 18/25\n",
      "\u001B[1m39/39\u001B[0m \u001B[32m━━━━━━━━━━━━━━━━━━━━\u001B[0m\u001B[37m\u001B[0m \u001B[1m4s\u001B[0m 97ms/step - loss: 5.7267e-04 - val_loss: 2.3794e-04\n",
      "Epoch 19/25\n",
      "\u001B[1m39/39\u001B[0m \u001B[32m━━━━━━━━━━━━━━━━━━━━\u001B[0m\u001B[37m\u001B[0m \u001B[1m4s\u001B[0m 93ms/step - loss: 3.6841e-04 - val_loss: 2.3790e-04\n",
      "Epoch 20/25\n",
      "\u001B[1m39/39\u001B[0m \u001B[32m━━━━━━━━━━━━━━━━━━━━\u001B[0m\u001B[37m\u001B[0m \u001B[1m4s\u001B[0m 90ms/step - loss: 3.4330e-04 - val_loss: 1.7521e-04\n",
      "Epoch 21/25\n",
      "\u001B[1m39/39\u001B[0m \u001B[32m━━━━━━━━━━━━━━━━━━━━\u001B[0m\u001B[37m\u001B[0m \u001B[1m4s\u001B[0m 95ms/step - loss: 3.0895e-04 - val_loss: 1.6368e-04\n",
      "Epoch 22/25\n",
      "\u001B[1m39/39\u001B[0m \u001B[32m━━━━━━━━━━━━━━━━━━━━\u001B[0m\u001B[37m\u001B[0m \u001B[1m4s\u001B[0m 98ms/step - loss: 3.5581e-04 - val_loss: 2.2789e-04\n",
      "Epoch 23/25\n",
      "\u001B[1m39/39\u001B[0m \u001B[32m━━━━━━━━━━━━━━━━━━━━\u001B[0m\u001B[37m\u001B[0m \u001B[1m4s\u001B[0m 91ms/step - loss: 2.6212e-04 - val_loss: 1.7294e-04\n",
      "Epoch 24/25\n",
      "\u001B[1m39/39\u001B[0m \u001B[32m━━━━━━━━━━━━━━━━━━━━\u001B[0m\u001B[37m\u001B[0m \u001B[1m4s\u001B[0m 91ms/step - loss: 3.0379e-04 - val_loss: 1.5685e-04\n",
      "Epoch 25/25\n",
      "\u001B[1m39/39\u001B[0m \u001B[32m━━━━━━━━━━━━━━━━━━━━\u001B[0m\u001B[37m\u001B[0m \u001B[1m4s\u001B[0m 91ms/step - loss: 3.2317e-04 - val_loss: 1.9691e-04\n"
     ]
    },
    {
     "data": {
      "text/plain": "<keras.src.callbacks.history.History at 0x1e7572b6b90>"
     },
     "execution_count": 15,
     "metadata": {},
     "output_type": "execute_result"
    }
   ],
   "source": [
    "# Kompilacja modelu\n",
    "model.compile(optimizer='adam', loss='mean_squared_error')\n",
    "\n",
    "# 8. Trenowanie modelu\n",
    "model.fit(X_train, y_train, validation_data=(X_test, y_test), epochs=25, batch_size=64, verbose=1)"
   ],
   "metadata": {
    "collapsed": false,
    "ExecuteTime": {
     "end_time": "2024-10-09T11:33:07.367964Z",
     "start_time": "2024-10-09T11:31:31.823174Z"
    }
   },
   "id": "a655e502090bc49a",
   "execution_count": 15
  },
  {
   "cell_type": "code",
   "outputs": [
    {
     "name": "stdout",
     "output_type": "stream",
     "text": [
      "\u001B[1m12/12\u001B[0m \u001B[32m━━━━━━━━━━━━━━━━━━━━\u001B[0m\u001B[37m\u001B[0m \u001B[1m1s\u001B[0m 59ms/step\n",
      "[[0.24785668]\n",
      " [0.24770547]\n",
      " [0.24809632]\n",
      " [0.24855958]\n",
      " [0.24972808]\n",
      " [0.25072291]\n",
      " [0.25187534]\n",
      " [0.25276408]\n",
      " [0.2538797 ]\n",
      " [0.25520375]]\n"
     ]
    }
   ],
   "source": [
    "# 9. Predykcja na danych testowych\n",
    "predictions = model.predict(X_test)\n",
    "print(predictions[:10])"
   ],
   "metadata": {
    "collapsed": false,
    "ExecuteTime": {
     "end_time": "2024-10-09T11:33:08.350964Z",
     "start_time": "2024-10-09T11:33:07.368965Z"
    }
   },
   "id": "24ffe8dbcefa7229",
   "execution_count": 16
  },
  {
   "cell_type": "code",
   "outputs": [
    {
     "name": "stdout",
     "output_type": "stream",
     "text": [
      "[[16625.08007812]\n",
      " [16688.47070312]\n",
      " [16679.85742188]\n",
      " [16863.23828125]\n",
      " [16836.73632812]\n",
      " [16951.96875   ]\n",
      " [16955.078125  ]\n",
      " [17091.14453125]\n",
      " [17196.5546875 ]\n",
      " [17446.29296875]]\n"
     ]
    }
   ],
   "source": [
    "# 10. Odwrotna transformacja dla porównania z rzeczywistymi danymi\n",
    "predictions = scaler.inverse_transform(predictions.reshape(-1, 1))\n",
    "y_test = scaler.inverse_transform(y_test.reshape(-1, 1))\n",
    "print(y_test[:10])"
   ],
   "metadata": {
    "collapsed": false,
    "ExecuteTime": {
     "end_time": "2024-10-09T11:33:08.366964Z",
     "start_time": "2024-10-09T11:33:08.351965Z"
    }
   },
   "id": "1a0796ef61912ae8",
   "execution_count": 17
  },
  {
   "cell_type": "code",
   "outputs": [
    {
     "name": "stdout",
     "output_type": "stream",
     "text": [
      "363\n",
      "363\n"
     ]
    }
   ],
   "source": [
    "print(len(predictions))\n",
    "print(len(X_test))"
   ],
   "metadata": {
    "collapsed": false,
    "ExecuteTime": {
     "end_time": "2024-10-09T11:33:08.382964Z",
     "start_time": "2024-10-09T11:33:08.367965Z"
    }
   },
   "id": "b7fff0ef4c27b485",
   "execution_count": 18
  },
  {
   "cell_type": "code",
   "outputs": [
    {
     "name": "stdout",
     "output_type": "stream",
     "text": [
      "363\n",
      "364\n"
     ]
    },
    {
     "ename": "ConversionError",
     "evalue": "Failed to convert value(s) to axis units: '2023-01-01'",
     "output_type": "error",
     "traceback": [
      "\u001B[1;31m---------------------------------------------------------------------------\u001B[0m",
      "\u001B[1;31mIndexError\u001B[0m                                Traceback (most recent call last)",
      "File \u001B[1;32m~\\Desktop\\crypto\\venv\\lib\\site-packages\\matplotlib\\axis.py:1813\u001B[0m, in \u001B[0;36mAxis.convert_units\u001B[1;34m(self, x)\u001B[0m\n\u001B[0;32m   1812\u001B[0m \u001B[38;5;28;01mtry\u001B[39;00m:\n\u001B[1;32m-> 1813\u001B[0m     ret \u001B[38;5;241m=\u001B[39m \u001B[38;5;28;43mself\u001B[39;49m\u001B[38;5;241;43m.\u001B[39;49m\u001B[43mconverter\u001B[49m\u001B[38;5;241;43m.\u001B[39;49m\u001B[43mconvert\u001B[49m\u001B[43m(\u001B[49m\u001B[43mx\u001B[49m\u001B[43m,\u001B[49m\u001B[43m \u001B[49m\u001B[38;5;28;43mself\u001B[39;49m\u001B[38;5;241;43m.\u001B[39;49m\u001B[43munits\u001B[49m\u001B[43m,\u001B[49m\u001B[43m \u001B[49m\u001B[38;5;28;43mself\u001B[39;49m\u001B[43m)\u001B[49m\n\u001B[0;32m   1814\u001B[0m \u001B[38;5;28;01mexcept\u001B[39;00m \u001B[38;5;167;01mException\u001B[39;00m \u001B[38;5;28;01mas\u001B[39;00m e:\n",
      "File \u001B[1;32m~\\Desktop\\crypto\\venv\\lib\\site-packages\\matplotlib\\dates.py:1829\u001B[0m, in \u001B[0;36m_SwitchableDateConverter.convert\u001B[1;34m(self, *args, **kwargs)\u001B[0m\n\u001B[0;32m   1828\u001B[0m \u001B[38;5;28;01mdef\u001B[39;00m \u001B[38;5;21mconvert\u001B[39m(\u001B[38;5;28mself\u001B[39m, \u001B[38;5;241m*\u001B[39margs, \u001B[38;5;241m*\u001B[39m\u001B[38;5;241m*\u001B[39mkwargs):\n\u001B[1;32m-> 1829\u001B[0m     \u001B[38;5;28;01mreturn\u001B[39;00m \u001B[38;5;28mself\u001B[39m\u001B[38;5;241m.\u001B[39m_get_converter()\u001B[38;5;241m.\u001B[39mconvert(\u001B[38;5;241m*\u001B[39margs, \u001B[38;5;241m*\u001B[39m\u001B[38;5;241m*\u001B[39mkwargs)\n",
      "File \u001B[1;32m~\\Desktop\\crypto\\venv\\lib\\site-packages\\matplotlib\\dates.py:1757\u001B[0m, in \u001B[0;36mDateConverter.convert\u001B[1;34m(value, unit, axis)\u001B[0m\n\u001B[0;32m   1751\u001B[0m \u001B[38;5;250m\u001B[39m\u001B[38;5;124;03m\"\"\"\u001B[39;00m\n\u001B[0;32m   1752\u001B[0m \u001B[38;5;124;03mIf *value* is not already a number or sequence of numbers, convert it\u001B[39;00m\n\u001B[0;32m   1753\u001B[0m \u001B[38;5;124;03mwith `date2num`.\u001B[39;00m\n\u001B[0;32m   1754\u001B[0m \n\u001B[0;32m   1755\u001B[0m \u001B[38;5;124;03mThe *unit* and *axis* arguments are not used.\u001B[39;00m\n\u001B[0;32m   1756\u001B[0m \u001B[38;5;124;03m\"\"\"\u001B[39;00m\n\u001B[1;32m-> 1757\u001B[0m \u001B[38;5;28;01mreturn\u001B[39;00m \u001B[43mdate2num\u001B[49m\u001B[43m(\u001B[49m\u001B[43mvalue\u001B[49m\u001B[43m)\u001B[49m\n",
      "File \u001B[1;32m~\\Desktop\\crypto\\venv\\lib\\site-packages\\matplotlib\\dates.py:444\u001B[0m, in \u001B[0;36mdate2num\u001B[1;34m(d)\u001B[0m\n\u001B[0;32m    443\u001B[0m     \u001B[38;5;28;01mreturn\u001B[39;00m d\n\u001B[1;32m--> 444\u001B[0m tzi \u001B[38;5;241m=\u001B[39m \u001B[38;5;28mgetattr\u001B[39m(\u001B[43md\u001B[49m\u001B[43m[\u001B[49m\u001B[38;5;241;43m0\u001B[39;49m\u001B[43m]\u001B[49m, \u001B[38;5;124m'\u001B[39m\u001B[38;5;124mtzinfo\u001B[39m\u001B[38;5;124m'\u001B[39m, \u001B[38;5;28;01mNone\u001B[39;00m)\n\u001B[0;32m    445\u001B[0m \u001B[38;5;28;01mif\u001B[39;00m tzi \u001B[38;5;129;01mis\u001B[39;00m \u001B[38;5;129;01mnot\u001B[39;00m \u001B[38;5;28;01mNone\u001B[39;00m:\n\u001B[0;32m    446\u001B[0m     \u001B[38;5;66;03m# make datetime naive:\u001B[39;00m\n",
      "\u001B[1;31mIndexError\u001B[0m: too many indices for array: array is 0-dimensional, but 1 were indexed",
      "\nThe above exception was the direct cause of the following exception:\n",
      "\u001B[1;31mConversionError\u001B[0m                           Traceback (most recent call last)",
      "Cell \u001B[1;32mIn[19], line 21\u001B[0m\n\u001B[0;32m     19\u001B[0m plt\u001B[38;5;241m.\u001B[39mlegend()\n\u001B[0;32m     20\u001B[0m plt\u001B[38;5;241m.\u001B[39mxticks(rotation\u001B[38;5;241m=\u001B[39m\u001B[38;5;241m45\u001B[39m)\n\u001B[1;32m---> 21\u001B[0m \u001B[43mplt\u001B[49m\u001B[38;5;241;43m.\u001B[39;49m\u001B[43mxlim\u001B[49m\u001B[43m(\u001B[49m\u001B[43m[\u001B[49m\u001B[43mpredict_start_date\u001B[49m\u001B[43m,\u001B[49m\u001B[43m \u001B[49m\u001B[43mpredict_end_date\u001B[49m\u001B[43m]\u001B[49m\u001B[43m)\u001B[49m  \u001B[38;5;66;03m# Ustawiamy zakres osi X\u001B[39;00m\n\u001B[0;32m     22\u001B[0m plt\u001B[38;5;241m.\u001B[39mshow()\n\u001B[0;32m     24\u001B[0m \u001B[38;5;28mprint\u001B[39m(predictions)\n",
      "File \u001B[1;32m~\\Desktop\\crypto\\venv\\lib\\site-packages\\matplotlib\\pyplot.py:2107\u001B[0m, in \u001B[0;36mxlim\u001B[1;34m(*args, **kwargs)\u001B[0m\n\u001B[0;32m   2105\u001B[0m \u001B[38;5;28;01mif\u001B[39;00m \u001B[38;5;129;01mnot\u001B[39;00m args \u001B[38;5;129;01mand\u001B[39;00m \u001B[38;5;129;01mnot\u001B[39;00m kwargs:\n\u001B[0;32m   2106\u001B[0m     \u001B[38;5;28;01mreturn\u001B[39;00m ax\u001B[38;5;241m.\u001B[39mget_xlim()\n\u001B[1;32m-> 2107\u001B[0m ret \u001B[38;5;241m=\u001B[39m ax\u001B[38;5;241m.\u001B[39mset_xlim(\u001B[38;5;241m*\u001B[39margs, \u001B[38;5;241m*\u001B[39m\u001B[38;5;241m*\u001B[39mkwargs)\n\u001B[0;32m   2108\u001B[0m \u001B[38;5;28;01mreturn\u001B[39;00m ret\n",
      "File \u001B[1;32m~\\Desktop\\crypto\\venv\\lib\\site-packages\\matplotlib\\axes\\_base.py:3739\u001B[0m, in \u001B[0;36m_AxesBase.set_xlim\u001B[1;34m(self, left, right, emit, auto, xmin, xmax)\u001B[0m\n\u001B[0;32m   3737\u001B[0m         \u001B[38;5;28;01mraise\u001B[39;00m \u001B[38;5;167;01mTypeError\u001B[39;00m(\u001B[38;5;124m\"\u001B[39m\u001B[38;5;124mCannot pass both \u001B[39m\u001B[38;5;124m'\u001B[39m\u001B[38;5;124mright\u001B[39m\u001B[38;5;124m'\u001B[39m\u001B[38;5;124m and \u001B[39m\u001B[38;5;124m'\u001B[39m\u001B[38;5;124mxmax\u001B[39m\u001B[38;5;124m'\u001B[39m\u001B[38;5;124m\"\u001B[39m)\n\u001B[0;32m   3738\u001B[0m     right \u001B[38;5;241m=\u001B[39m xmax\n\u001B[1;32m-> 3739\u001B[0m \u001B[38;5;28;01mreturn\u001B[39;00m \u001B[38;5;28;43mself\u001B[39;49m\u001B[38;5;241;43m.\u001B[39;49m\u001B[43mxaxis\u001B[49m\u001B[38;5;241;43m.\u001B[39;49m\u001B[43m_set_lim\u001B[49m\u001B[43m(\u001B[49m\u001B[43mleft\u001B[49m\u001B[43m,\u001B[49m\u001B[43m \u001B[49m\u001B[43mright\u001B[49m\u001B[43m,\u001B[49m\u001B[43m \u001B[49m\u001B[43memit\u001B[49m\u001B[38;5;241;43m=\u001B[39;49m\u001B[43memit\u001B[49m\u001B[43m,\u001B[49m\u001B[43m \u001B[49m\u001B[43mauto\u001B[49m\u001B[38;5;241;43m=\u001B[39;49m\u001B[43mauto\u001B[49m\u001B[43m)\u001B[49m\n",
      "File \u001B[1;32m~\\Desktop\\crypto\\venv\\lib\\site-packages\\matplotlib\\axis.py:1236\u001B[0m, in \u001B[0;36mAxis._set_lim\u001B[1;34m(self, v0, v1, emit, auto)\u001B[0m\n\u001B[0;32m   1233\u001B[0m name \u001B[38;5;241m=\u001B[39m \u001B[38;5;28mself\u001B[39m\u001B[38;5;241m.\u001B[39m_get_axis_name()\n\u001B[0;32m   1235\u001B[0m \u001B[38;5;28mself\u001B[39m\u001B[38;5;241m.\u001B[39maxes\u001B[38;5;241m.\u001B[39m_process_unit_info([(name, (v0, v1))], convert\u001B[38;5;241m=\u001B[39m\u001B[38;5;28;01mFalse\u001B[39;00m)\n\u001B[1;32m-> 1236\u001B[0m v0 \u001B[38;5;241m=\u001B[39m \u001B[38;5;28;43mself\u001B[39;49m\u001B[38;5;241;43m.\u001B[39;49m\u001B[43maxes\u001B[49m\u001B[38;5;241;43m.\u001B[39;49m\u001B[43m_validate_converted_limits\u001B[49m\u001B[43m(\u001B[49m\u001B[43mv0\u001B[49m\u001B[43m,\u001B[49m\u001B[43m \u001B[49m\u001B[38;5;28;43mself\u001B[39;49m\u001B[38;5;241;43m.\u001B[39;49m\u001B[43mconvert_units\u001B[49m\u001B[43m)\u001B[49m\n\u001B[0;32m   1237\u001B[0m v1 \u001B[38;5;241m=\u001B[39m \u001B[38;5;28mself\u001B[39m\u001B[38;5;241m.\u001B[39maxes\u001B[38;5;241m.\u001B[39m_validate_converted_limits(v1, \u001B[38;5;28mself\u001B[39m\u001B[38;5;241m.\u001B[39mconvert_units)\n\u001B[0;32m   1239\u001B[0m \u001B[38;5;28;01mif\u001B[39;00m v0 \u001B[38;5;129;01mis\u001B[39;00m \u001B[38;5;28;01mNone\u001B[39;00m \u001B[38;5;129;01mor\u001B[39;00m v1 \u001B[38;5;129;01mis\u001B[39;00m \u001B[38;5;28;01mNone\u001B[39;00m:\n\u001B[0;32m   1240\u001B[0m     \u001B[38;5;66;03m# Axes init calls set_xlim(0, 1) before get_xlim() can be called,\u001B[39;00m\n\u001B[0;32m   1241\u001B[0m     \u001B[38;5;66;03m# so only grab the limits if we really need them.\u001B[39;00m\n",
      "File \u001B[1;32m~\\Desktop\\crypto\\venv\\lib\\site-packages\\matplotlib\\axes\\_base.py:3655\u001B[0m, in \u001B[0;36m_AxesBase._validate_converted_limits\u001B[1;34m(self, limit, convert)\u001B[0m\n\u001B[0;32m   3645\u001B[0m \u001B[38;5;250m\u001B[39m\u001B[38;5;124;03m\"\"\"\u001B[39;00m\n\u001B[0;32m   3646\u001B[0m \u001B[38;5;124;03mRaise ValueError if converted limits are non-finite.\u001B[39;00m\n\u001B[0;32m   3647\u001B[0m \n\u001B[1;32m   (...)\u001B[0m\n\u001B[0;32m   3652\u001B[0m \u001B[38;5;124;03mThe limit value after call to convert(), or None if limit is None.\u001B[39;00m\n\u001B[0;32m   3653\u001B[0m \u001B[38;5;124;03m\"\"\"\u001B[39;00m\n\u001B[0;32m   3654\u001B[0m \u001B[38;5;28;01mif\u001B[39;00m limit \u001B[38;5;129;01mis\u001B[39;00m \u001B[38;5;129;01mnot\u001B[39;00m \u001B[38;5;28;01mNone\u001B[39;00m:\n\u001B[1;32m-> 3655\u001B[0m     converted_limit \u001B[38;5;241m=\u001B[39m \u001B[43mconvert\u001B[49m\u001B[43m(\u001B[49m\u001B[43mlimit\u001B[49m\u001B[43m)\u001B[49m\n\u001B[0;32m   3656\u001B[0m     \u001B[38;5;28;01mif\u001B[39;00m \u001B[38;5;28misinstance\u001B[39m(converted_limit, np\u001B[38;5;241m.\u001B[39mndarray):\n\u001B[0;32m   3657\u001B[0m         converted_limit \u001B[38;5;241m=\u001B[39m converted_limit\u001B[38;5;241m.\u001B[39msqueeze()\n",
      "File \u001B[1;32m~\\Desktop\\crypto\\venv\\lib\\site-packages\\matplotlib\\axis.py:1815\u001B[0m, in \u001B[0;36mAxis.convert_units\u001B[1;34m(self, x)\u001B[0m\n\u001B[0;32m   1813\u001B[0m     ret \u001B[38;5;241m=\u001B[39m \u001B[38;5;28mself\u001B[39m\u001B[38;5;241m.\u001B[39mconverter\u001B[38;5;241m.\u001B[39mconvert(x, \u001B[38;5;28mself\u001B[39m\u001B[38;5;241m.\u001B[39munits, \u001B[38;5;28mself\u001B[39m)\n\u001B[0;32m   1814\u001B[0m \u001B[38;5;28;01mexcept\u001B[39;00m \u001B[38;5;167;01mException\u001B[39;00m \u001B[38;5;28;01mas\u001B[39;00m e:\n\u001B[1;32m-> 1815\u001B[0m     \u001B[38;5;28;01mraise\u001B[39;00m munits\u001B[38;5;241m.\u001B[39mConversionError(\u001B[38;5;124m'\u001B[39m\u001B[38;5;124mFailed to convert value(s) to axis \u001B[39m\u001B[38;5;124m'\u001B[39m\n\u001B[0;32m   1816\u001B[0m                                  \u001B[38;5;124mf\u001B[39m\u001B[38;5;124m'\u001B[39m\u001B[38;5;124munits: \u001B[39m\u001B[38;5;132;01m{\u001B[39;00mx\u001B[38;5;132;01m!r}\u001B[39;00m\u001B[38;5;124m'\u001B[39m) \u001B[38;5;28;01mfrom\u001B[39;00m \u001B[38;5;21;01me\u001B[39;00m\n\u001B[0;32m   1817\u001B[0m \u001B[38;5;28;01mreturn\u001B[39;00m ret\n",
      "\u001B[1;31mConversionError\u001B[0m: Failed to convert value(s) to axis units: '2023-01-01'"
     ]
    },
    {
     "data": {
      "text/plain": "<Figure size 1000x500 with 1 Axes>",
      "image/png": "[encoded data removed]"
     },
     "metadata": {},
     "output_type": "display_data"
    }
   ],
   "source": [
    "# Wizualizacja prognozy i rzeczywistych danych dla roku 2023\n",
    "plt.figure(figsize=(10, 5))\n",
    "\n",
    "# Daty testowe (dla prognoz)\n",
    "test_dates = btc.loc[new_date.strftime('%Y-%m-%d'):predict_end_date].index[time_step + 1:len(predictions) + time_step + 1]\n",
    "print(len(test_dates))\n",
    "# Wykres przewidywań\n",
    "plt.plot(test_dates, predictions, label='Predicted', color='red')\n",
    "\n",
    "# Wyświetlanie rzeczywistych cen dla tego okresu\n",
    "actual_prices = btc['Close'].loc[predict_start_date:predict_end_date]\n",
    "actual_dates = actual_prices.index\n",
    "print(len(actual_dates))\n",
    "plt.plot(actual_dates, actual_prices, label='Actual', color='blue')\n",
    "\n",
    "plt.title(f'Bitcoin Price Prediction ({predict_start_date} - {predict_end_date})')\n",
    "plt.xlabel('Date')\n",
    "plt.ylabel('Price (USD)')\n",
    "plt.legend()\n",
    "plt.xticks(rotation=45)\n",
    "plt.xlim([predict_start_date, predict_end_date])  # Ustawiamy zakres osi X\n",
    "plt.show()\n",
    "\n",
    "print(predictions)\n"
   ],
   "metadata": {
    "collapsed": false,
    "ExecuteTime": {
     "end_time": "2024-10-09T11:33:09.600963Z",
     "start_time": "2024-10-09T11:33:08.384967Z"
    }
   },
   "id": "c557f0e24027f30f",
   "execution_count": 19
  }
 ],
 "metadata": {
  "kernelspec": {
   "display_name": "Python 3",
   "language": "python",
   "name": "python3"
  },
  "language_info": {
   "codemirror_mode": {
    "name": "ipython",
    "version": 2
   },
   "file_extension": ".py",
   "mimetype": "text/x-python",
   "name": "python",
   "nbconvert_exporter": "python",
   "pygments_lexer": "ipython2",
   "version": "2.7.6"
  }
 },
 "nbformat": 4,
 "nbformat_minor": 5
}
