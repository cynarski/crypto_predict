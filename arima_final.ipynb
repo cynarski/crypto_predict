{
 "cells": [
  {
   "cell_type": "code",
   "outputs": [],
   "source": [],
   "metadata": {
    "collapsed": false,
    "ExecuteTime": {
     "end_time": "2024-10-16T08:08:56.733181200Z",
     "start_time": "2024-10-16T08:08:56.724165700Z"
    }
   },
   "id": "7ceda90c26d46dc0",
   "execution_count": null
  },
  {
   "cell_type": "code",
   "execution_count": 1,
   "id": "initial_id",
   "metadata": {
    "collapsed": true,
    "ExecuteTime": {
     "end_time": "2024-10-16T08:09:01.928711600Z",
     "start_time": "2024-10-16T08:08:56.728179500Z"
    }
   },
   "outputs": [],
   "source": [
    "from statsmodels.tsa.arima.model import ARIMA\n",
    "from statsmodels.tsa.statespace.sarimax import SARIMAX\n",
    "from sklearn.preprocessing import MinMaxScaler\n",
    "import numpy as np\n",
    "import pandas as pd\n",
    "\n",
    "\n",
    "class MyARIMA:\n",
    "    sc_in = MinMaxScaler(feature_range=(0, 1))\n",
    "    sc_out = MinMaxScaler(feature_range=(0, 1))\n",
    "\n",
    "    def __init__(self, args):\n",
    "        self.train_size = -1\n",
    "        self.test_size = -1\n",
    "        self.order = tuple(map(int, args.order.split(', ')))\n",
    "\n",
    "    def fit(self, data_x):\n",
    "        data_x = np.array(data_x)\n",
    "        train_x = data_x[:, 1:-1]  # Exclude the 'Date' and 'Next_Close' column\n",
    "        train_y = data_x[:, -1] \n",
    "        print(train_x)\n",
    "        self.train_size = train_x.shape[0]\n",
    "        train_x = self.sc_in.fit_transform(train_x)\n",
    "        train_y = train_y.reshape(-1, 1)\n",
    "        train_y = self.sc_out.fit_transform(train_y)\n",
    "        train_x = np.array(train_x, dtype=float)\n",
    "        train_y = np.array(train_y, dtype=float).flatten()\n",
    "        self.model = ARIMA(train_y,\n",
    "                             exog=train_x,\n",
    "                             order=self.order)\n",
    "        self.result = self.model.fit()\n",
    "\n",
    "    def predict(self, test_x):\n",
    "        # Ensure we are only using the same features that were used for training\n",
    "        test_x = np.array(test_x[[\"Open\", \"High\", \"Low\", \"Volume\"]], dtype=float)\n",
    "        test_x = self.sc_in.transform(test_x)  # Scale the test features\n",
    "        \n",
    "        # Predict using the model\n",
    "        pred_y = self.result.predict(start=self.train_size, end=self.train_size + test_x.shape[0] - 1, exog=test_x)\n",
    "        \n",
    "        # Reshape and inverse transform the predictions to get them back to the original scale\n",
    "        pred_y = pred_y.reshape(-1, 1)\n",
    "        pred_y = self.sc_out.inverse_transform(pred_y)\n",
    "        return pred_y\n"
   ]
  },
  {
   "cell_type": "code",
   "outputs": [
    {
     "name": "stderr",
     "output_type": "stream",
     "text": [
      "[*********************100%***********************]  1 of 1 completed"
     ]
    },
    {
     "name": "stdout",
     "output_type": "stream",
     "text": [
      "        Date       Open       High        Low      Close  Adj Close     Volume\n",
      "0 2020-01-02  74.059998  75.150002  73.797501  75.087502  72.876106  135480400\n",
      "1 2020-01-03  74.287498  75.144997  74.125000  74.357498  72.167610  146322800\n",
      "2 2020-01-06  73.447502  74.989998  73.187500  74.949997  72.742653  118387200\n",
      "3 2020-01-07  74.959999  75.224998  74.370003  74.597504  72.400551  108872000\n",
      "4 2020-01-08  74.290001  76.110001  74.290001  75.797501  73.565186  132079200\n"
     ]
    },
    {
     "name": "stderr",
     "output_type": "stream",
     "text": [
      "\n"
     ]
    }
   ],
   "source": [
    "import yfinance as yf\n",
    "\n",
    "# Download stock data for a given symbol, e.g., 'AAPL'\n",
    "data = yf.download('AAPL', start='2020-01-01', end='2023-01-01')\n",
    "\n",
    "# Reset the index to make the 'Date' column a regular column\n",
    "data.reset_index(inplace=True)\n",
    "\n",
    "# View the first few rows\n",
    "print(data.head())\n"
   ],
   "metadata": {
    "collapsed": false,
    "ExecuteTime": {
     "end_time": "2024-10-16T08:09:06.693060900Z",
     "start_time": "2024-10-16T08:09:01.932717100Z"
    }
   },
   "id": "86488453038b8e21",
   "execution_count": 2
  },
  {
   "cell_type": "code",
   "outputs": [],
   "source": [
    "# Prepare the data for ARIMA model (we predict 'Close' price using other features)\n",
    "# Let's use 'Open', 'High', 'Low', 'Volume' as features\n",
    "\n",
    "data['Next_Close'] = data['Close'].shift(-1)  # Create a target column (predict next day's close)\n",
    "\n",
    "# Drop the last row since it will have NaN in 'Next_Close'\n",
    "data.dropna(inplace=True)\n",
    "\n",
    "# Select features and target\n",
    "features = ['Open', 'High', 'Low', 'Volume']  # Features for prediction\n",
    "target = ['Next_Close']  # Target variable (next day's close price)\n",
    "\n",
    "# Concatenate 'Date', features and target for input to MyARIMA class\n",
    "input_data = pd.concat([data['Date'], data[features], data[target]], axis=1)\n"
   ],
   "metadata": {
    "collapsed": false,
    "ExecuteTime": {
     "end_time": "2024-10-16T08:09:06.724761300Z",
     "start_time": "2024-10-16T08:09:06.691053700Z"
    }
   },
   "id": "63e6d5e72ef5411a",
   "execution_count": 3
  },
  {
   "cell_type": "code",
   "outputs": [
    {
     "name": "stdout",
     "output_type": "stream",
     "text": [
      "[[74.05999755859375 75.1500015258789 73.79750061035156 135480400]\n",
      " [74.2874984741211 75.1449966430664 74.125 146322800]\n",
      " [73.44750213623047 74.98999786376953 73.1875 118387200]\n",
      " ...\n",
      " [131.3800048828125 131.41000366210938 128.72000122070312 69007800]\n",
      " [129.6699981689453 131.02999877929688 125.87000274658203 85438400]\n",
      " [127.98999786376953 130.47999572753906 127.7300033569336 75703700]]\n"
     ]
    }
   ],
   "source": [
    "args = type('', (), {})()  # Create a dummy object to hold arguments\n",
    "args.order = '1, 0, 1'  # ARIMA(p,d,q) order, adjust as needed\n",
    "\n",
    "# Initialize MyARIMA class\n",
    "model = MyARIMA(args)\n",
    "\n",
    "# Fit the model on historical data (ignore the first column 'Date')\n",
    "model.fit(input_data)\n"
   ],
   "metadata": {
    "collapsed": false,
    "ExecuteTime": {
     "end_time": "2024-10-16T08:09:07.987626400Z",
     "start_time": "2024-10-16T08:09:06.710677400Z"
    }
   },
   "id": "de940921dbc79ef6",
   "execution_count": 4
  },
  {
   "cell_type": "code",
   "outputs": [
    {
     "name": "stdout",
     "output_type": "stream",
     "text": [
      "          Date        Open        High         Low       Close   Adj Close  \\\n",
      "745 2022-12-15  141.110001  141.800003  136.029999  136.500000  135.228119   \n",
      "746 2022-12-16  136.690002  137.649994  133.729996  134.509995  133.256653   \n",
      "747 2022-12-19  135.110001  135.199997  131.320007  132.369995  131.136627   \n",
      "748 2022-12-20  131.389999  133.250000  129.889999  132.300003  131.067261   \n",
      "749 2022-12-21  132.979996  136.809998  132.750000  135.449997  134.187897   \n",
      "750 2022-12-22  134.350006  134.559998  130.300003  132.229996  130.997894   \n",
      "751 2022-12-23  130.919998  132.419998  129.639999  131.860001  130.631363   \n",
      "752 2022-12-27  131.380005  131.410004  128.720001  130.029999  128.818420   \n",
      "753 2022-12-28  129.669998  131.029999  125.870003  126.040001  124.865601   \n",
      "754 2022-12-29  127.989998  130.479996  127.730003  129.610001  128.402344   \n",
      "\n",
      "        Volume  Next_Close  \n",
      "745   98931900  134.509995  \n",
      "746  160156900  132.369995  \n",
      "747   79592600  132.300003  \n",
      "748   77432800  135.449997  \n",
      "749   85928000  132.229996  \n",
      "750   77852100  131.860001  \n",
      "751   63814900  130.029999  \n",
      "752   69007800  126.040001  \n",
      "753   85438400  129.610001  \n",
      "754   75703700  129.929993  \n",
      "Predicted Close Prices: [[137.07576854]\n",
      " [135.06194159]\n",
      " [131.86451211]\n",
      " [131.74487267]\n",
      " [136.1071924 ]\n",
      " [130.94550955]\n",
      " [131.18513802]\n",
      " [129.1735182 ]\n",
      " [127.42915968]\n",
      " [130.04179871]]\n"
     ]
    }
   ],
   "source": [
    "# Prepare test data (let's predict for the last 5 days as an example)\n",
    "test_data = data.iloc[-10:]  # Select last 5 rows for testing\n",
    "print(test_data)\n",
    "predictions = model.predict(test_data)\n",
    "\n",
    "# Print predictions\n",
    "print(\"Predicted Close Prices:\", predictions)\n"
   ],
   "metadata": {
    "collapsed": false,
    "ExecuteTime": {
     "end_time": "2024-10-16T08:09:08.006567600Z",
     "start_time": "2024-10-16T08:09:07.990242300Z"
    }
   },
   "id": "8191fe35aa417c0",
   "execution_count": 5
  },
  {
   "cell_type": "code",
   "outputs": [
    {
     "data": {
      "text/plain": "<Figure size 640x480 with 1 Axes>",
      "image/png": "[encoded data removed]"
     },
     "metadata": {},
     "output_type": "display_data"
    }
   ],
   "source": [
    "import matplotlib.pyplot as plt\n",
    "\n",
    "# Plot actual vs predicted\n",
    "plt.plot(data['Date'][-10:], test_data['Next_Close'], label='Actual')\n",
    "plt.plot(data['Date'][-10:], predictions, label='Predicted')\n",
    "plt.xlabel('Date')\n",
    "plt.ylabel('Close Price')\n",
    "plt.legend()\n",
    "plt.show()\n"
   ],
   "metadata": {
    "collapsed": false,
    "ExecuteTime": {
     "end_time": "2024-10-16T08:09:09.217252400Z",
     "start_time": "2024-10-16T08:09:08.007567500Z"
    }
   },
   "id": "b6776130271861c4",
   "execution_count": 6
  }
 ],
 "metadata": {
  "kernelspec": {
   "display_name": "Python 3",
   "language": "python",
   "name": "python3"
  },
  "language_info": {
   "codemirror_mode": {
    "name": "ipython",
    "version": 2
   },
   "file_extension": ".py",
   "mimetype": "text/x-python",
   "name": "python",
   "nbconvert_exporter": "python",
   "pygments_lexer": "ipython2",
   "version": "2.7.6"
  }
 },
 "nbformat": 4,
 "nbformat_minor": 5
}
