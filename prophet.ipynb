{
 "cells": [
  {
   "cell_type": "code",
   "outputs": [
    {
     "name": "stderr",
     "output_type": "stream",
     "text": [
      "'pip' is not recognized as an internal or external command,\n",
      "operable program or batch file.\n"
     ]
    }
   ],
   "source": [
    "!pip install prophet==1.1.1"
   ],
   "metadata": {
    "collapsed": false,
    "ExecuteTime": {
     "end_time": "2024-10-15T22:41:46.354658Z",
     "start_time": "2024-10-15T22:41:46.308656Z"
    }
   },
   "id": "cf8640c7e0f3748e",
   "execution_count": 36
  },
  {
   "cell_type": "code",
   "outputs": [
    {
     "name": "stdout",
     "output_type": "stream",
     "text": [
      "Prophet version: 1.1.6\n",
      "Holidays version: 0.58\n"
     ]
    }
   ],
   "source": [
    "import prophet\n",
    "import holidays\n",
    "\n",
    "print(\"Prophet version:\", prophet.__version__)\n",
    "print(\"Holidays version:\", holidays.__version__)\n"
   ],
   "metadata": {
    "collapsed": false,
    "ExecuteTime": {
     "end_time": "2024-10-15T22:41:46.370655Z",
     "start_time": "2024-10-15T22:41:46.356660Z"
    }
   },
   "id": "6084cc0098cb9a7",
   "execution_count": 37
  },
  {
   "cell_type": "code",
   "execution_count": 38,
   "id": "initial_id",
   "metadata": {
    "collapsed": true,
    "ExecuteTime": {
     "end_time": "2024-10-15T22:41:46.386656Z",
     "start_time": "2024-10-15T22:41:46.372657Z"
    }
   },
   "outputs": [],
   "source": [
    "from prophet import Prophet\n",
    "import numpy as np\n",
    "\n",
    "class MyProphet:\n",
    "\n",
    "    def __init__(self, args):\n",
    "        self.response_col = args.response_col\n",
    "        self.date_col = args.date_col\n",
    "\n",
    "    def fit(self, data_x):\n",
    "        self.model_fbp = Prophet()\n",
    "        self.regressors = []\n",
    "        for col in data_x.columns:\n",
    "            if col != self.response_col and col != self.date_col:\n",
    "                self.regressors.append(col)\n",
    "        for feature in self.regressors:\n",
    "            self.model_fbp.add_regressor(feature)\n",
    "        data_x[self.regressors] = data_x[self.regressors].astype(float)\n",
    "        data_x[self.response_col] = data_x[self.response_col].astype(float)\n",
    "        ml_df1 = data_x.reset_index().rename(columns={self.date_col: 'ds', self.response_col: 'y'})\n",
    "        # print(train_x)\n",
    "        self.model_fbp.fit(ml_df1)\n",
    "\n",
    "    def predict(self, test_x):\n",
    "        # Upewnij się, że wszystkie regresory są typu float\n",
    "        for reg in self.regressors:\n",
    "            test_x[reg] = test_x[reg].astype(float)\n",
    "        \n",
    "        # Zmień nazwę kolumny daty na 'ds'\n",
    "        test_x = test_x.rename(columns={self.date_col: 'ds'})\n",
    "        \n",
    "        # Prophet nie potrzebuje kolumny 'y' w danych do prognozy\n",
    "        # Usuń kolumnę 'y' jeśli istnieje\n",
    "        if 'y' in test_x.columns:\n",
    "            test_x = test_x.drop(columns=['y'])\n",
    "        \n",
    "        # Upewnij się, że kolumna 'ds' jest typu datetime\n",
    "        test_x['ds'] = pd.to_datetime(test_x['ds'])\n",
    "        \n",
    "        # Dokonaj prognozy\n",
    "        pred_y = self.model_fbp.predict(test_x)\n",
    "        return pred_y['yhat']\n"
   ]
  },
  {
   "cell_type": "code",
   "outputs": [
    {
     "name": "stderr",
     "output_type": "stream",
     "text": [
      "[*********************100%***********************]  1 of 1 completed"
     ]
    },
    {
     "name": "stdout",
     "output_type": "stream",
     "text": [
      "                 Open       High        Low      Close  Adj Close     Volume\n",
      "Date                                                                        \n",
      "2020-01-02  74.059998  75.150002  73.797501  75.087502  72.876114  135480400\n",
      "2020-01-03  74.287498  75.144997  74.125000  74.357498  72.167603  146322800\n",
      "2020-01-06  73.447502  74.989998  73.187500  74.949997  72.742668  118387200\n",
      "2020-01-07  74.959999  75.224998  74.370003  74.597504  72.400551  108872000\n",
      "2020-01-08  74.290001  76.110001  74.290001  75.797501  73.565201  132079200\n"
     ]
    },
    {
     "name": "stderr",
     "output_type": "stream",
     "text": [
      "\n"
     ]
    }
   ],
   "source": [
    "import yfinance as yf\n",
    "import pandas as pd\n",
    "\n",
    "# Pobierz dane historyczne dla wybranego tickera, np. Apple (AAPL)\n",
    "ticker = 'AAPL'\n",
    "data = yf.download(ticker, start='2020-01-01', end='2023-12-31')\n",
    "\n",
    "# Wyświetl pierwsze kilka wierszy\n",
    "print(data.head())\n"
   ],
   "metadata": {
    "collapsed": false,
    "ExecuteTime": {
     "end_time": "2024-10-15T22:41:46.433657Z",
     "start_time": "2024-10-15T22:41:46.388658Z"
    }
   },
   "id": "c52d72fe00c43fa2",
   "execution_count": 39
  },
  {
   "cell_type": "code",
   "outputs": [
    {
     "name": "stdout",
     "output_type": "stream",
     "text": [
      "        Date       Open       High        Low     Volume  Next_Close\n",
      "0 2020-01-02  74.059998  75.150002  73.797501  135480400   74.357498\n",
      "1 2020-01-03  74.287498  75.144997  74.125000  146322800   74.949997\n",
      "2 2020-01-06  73.447502  74.989998  73.187500  118387200   74.597504\n",
      "3 2020-01-07  74.959999  75.224998  74.370003  108872000   75.797501\n",
      "4 2020-01-08  74.290001  76.110001  74.290001  132079200   77.407501\n"
     ]
    }
   ],
   "source": [
    "# Resetuj indeks, aby data była kolumną\n",
    "data = data.reset_index()\n",
    "\n",
    "# Tworzymy kolumnę 'Next_Close', przesuwając kolumnę 'Close' o jeden dzień w górę\n",
    "data['Next_Close'] = data['Close'].shift(-1)\n",
    "\n",
    "# Usuwamy ostatni wiersz, ponieważ nie ma dla niego 'Next_Close'\n",
    "data = data[:-1]\n",
    "\n",
    "# Wybieramy potrzebne kolumny\n",
    "data = data[['Date', 'Open', 'High', 'Low', 'Volume', 'Next_Close']]\n",
    "\n",
    "# Wyświetl pierwsze kilka wierszy\n",
    "print(data.head())\n"
   ],
   "metadata": {
    "collapsed": false,
    "ExecuteTime": {
     "end_time": "2024-10-15T22:41:46.449657Z",
     "start_time": "2024-10-15T22:41:46.434659Z"
    }
   },
   "id": "afb1249a4356e034",
   "execution_count": 40
  },
  {
   "cell_type": "code",
   "outputs": [
    {
     "name": "stdout",
     "output_type": "stream",
     "text": [
      "Liczba danych treningowych: 804\n",
      "Liczba danych testowych: 201\n"
     ]
    }
   ],
   "source": [
    "# Określ procent danych treningowych, np. 80%\n",
    "train_size = int(len(data) * 0.8)\n",
    "\n",
    "# Podział danych\n",
    "train_data = data[:train_size]\n",
    "test_data = data[train_size:]\n",
    "\n",
    "print(f\"Liczba danych treningowych: {len(train_data)}\")\n",
    "print(f\"Liczba danych testowych: {len(test_data)}\")\n"
   ],
   "metadata": {
    "collapsed": false,
    "ExecuteTime": {
     "end_time": "2024-10-15T22:41:46.465655Z",
     "start_time": "2024-10-15T22:41:46.451656Z"
    }
   },
   "id": "29b385c199f89fe1",
   "execution_count": 41
  },
  {
   "cell_type": "code",
   "outputs": [],
   "source": [
    "class Args:\n",
    "    response_col = 'Next_Close'\n",
    "    date_col = 'Date'\n"
   ],
   "metadata": {
    "collapsed": false,
    "ExecuteTime": {
     "end_time": "2024-10-15T22:41:46.481657Z",
     "start_time": "2024-10-15T22:41:46.467658Z"
    }
   },
   "id": "903e837cde323bfa",
   "execution_count": 42
  },
  {
   "cell_type": "code",
   "outputs": [
    {
     "ename": "AttributeError",
     "evalue": "'Prophet' object has no attribute 'stan_backend'",
     "output_type": "error",
     "traceback": [
      "\u001B[1;31m---------------------------------------------------------------------------\u001B[0m",
      "\u001B[1;31mAttributeError\u001B[0m                            Traceback (most recent call last)",
      "Cell \u001B[1;32mIn[43], line 8\u001B[0m\n\u001B[0;32m      5\u001B[0m model \u001B[38;5;241m=\u001B[39m MyProphet(args)\n\u001B[0;32m      7\u001B[0m \u001B[38;5;66;03m# Trenowanie modelu na danych treningowych\u001B[39;00m\n\u001B[1;32m----> 8\u001B[0m \u001B[43mmodel\u001B[49m\u001B[38;5;241;43m.\u001B[39;49m\u001B[43mfit\u001B[49m\u001B[43m(\u001B[49m\u001B[43mtrain_data\u001B[49m\u001B[43m)\u001B[49m\n\u001B[0;32m      9\u001B[0m \u001B[38;5;66;03m# \u001B[39;00m\n\u001B[0;32m     10\u001B[0m \u001B[38;5;28mprint\u001B[39m(\u001B[38;5;124m\"\u001B[39m\u001B[38;5;124mModel został wytrenowany.\u001B[39m\u001B[38;5;124m\"\u001B[39m)\n",
      "Cell \u001B[1;32mIn[38], line 11\u001B[0m, in \u001B[0;36mMyProphet.fit\u001B[1;34m(self, data_x)\u001B[0m\n\u001B[0;32m     10\u001B[0m \u001B[38;5;28;01mdef\u001B[39;00m \u001B[38;5;21mfit\u001B[39m(\u001B[38;5;28mself\u001B[39m, data_x):\n\u001B[1;32m---> 11\u001B[0m     \u001B[38;5;28mself\u001B[39m\u001B[38;5;241m.\u001B[39mmodel_fbp \u001B[38;5;241m=\u001B[39m \u001B[43mProphet\u001B[49m\u001B[43m(\u001B[49m\u001B[43m)\u001B[49m\n\u001B[0;32m     12\u001B[0m     \u001B[38;5;28mself\u001B[39m\u001B[38;5;241m.\u001B[39mregressors \u001B[38;5;241m=\u001B[39m []\n\u001B[0;32m     13\u001B[0m     \u001B[38;5;28;01mfor\u001B[39;00m col \u001B[38;5;129;01min\u001B[39;00m data_x\u001B[38;5;241m.\u001B[39mcolumns:\n",
      "File \u001B[1;32m~\\Desktop\\crypto\\venv\\lib\\site-packages\\prophet\\forecaster.py:155\u001B[0m, in \u001B[0;36mProphet.__init__\u001B[1;34m(self, growth, changepoints, n_changepoints, changepoint_range, yearly_seasonality, weekly_seasonality, daily_seasonality, holidays, seasonality_mode, seasonality_prior_scale, holidays_prior_scale, changepoint_prior_scale, mcmc_samples, interval_width, uncertainty_samples, stan_backend, scaling, holidays_mode)\u001B[0m\n\u001B[0;32m    153\u001B[0m \u001B[38;5;28mself\u001B[39m\u001B[38;5;241m.\u001B[39mfit_kwargs \u001B[38;5;241m=\u001B[39m {}\n\u001B[0;32m    154\u001B[0m \u001B[38;5;28mself\u001B[39m\u001B[38;5;241m.\u001B[39mvalidate_inputs()\n\u001B[1;32m--> 155\u001B[0m \u001B[38;5;28;43mself\u001B[39;49m\u001B[38;5;241;43m.\u001B[39;49m\u001B[43m_load_stan_backend\u001B[49m\u001B[43m(\u001B[49m\u001B[43mstan_backend\u001B[49m\u001B[43m)\u001B[49m\n",
      "File \u001B[1;32m~\\Desktop\\crypto\\venv\\lib\\site-packages\\prophet\\forecaster.py:168\u001B[0m, in \u001B[0;36mProphet._load_stan_backend\u001B[1;34m(self, stan_backend)\u001B[0m\n\u001B[0;32m    165\u001B[0m \u001B[38;5;28;01melse\u001B[39;00m:\n\u001B[0;32m    166\u001B[0m     \u001B[38;5;28mself\u001B[39m\u001B[38;5;241m.\u001B[39mstan_backend \u001B[38;5;241m=\u001B[39m StanBackendEnum\u001B[38;5;241m.\u001B[39mget_backend_class(stan_backend)()\n\u001B[1;32m--> 168\u001B[0m logger\u001B[38;5;241m.\u001B[39mdebug(\u001B[38;5;124m\"\u001B[39m\u001B[38;5;124mLoaded stan backend: \u001B[39m\u001B[38;5;132;01m%s\u001B[39;00m\u001B[38;5;124m\"\u001B[39m, \u001B[38;5;28;43mself\u001B[39;49m\u001B[38;5;241;43m.\u001B[39;49m\u001B[43mstan_backend\u001B[49m\u001B[38;5;241m.\u001B[39mget_type())\n",
      "\u001B[1;31mAttributeError\u001B[0m: 'Prophet' object has no attribute 'stan_backend'"
     ]
    }
   ],
   "source": [
    "# Inicjalizacja parametrów\n",
    "args = Args()\n",
    "\n",
    "# Inicjalizacja modelu\n",
    "model = MyProphet(args)\n",
    "\n",
    "# Trenowanie modelu na danych treningowych\n",
    "model.fit(train_data)\n",
    "# \n",
    "print(\"Model został wytrenowany.\")\n"
   ],
   "metadata": {
    "collapsed": false,
    "ExecuteTime": {
     "end_time": "2024-10-15T22:41:46.545657Z",
     "start_time": "2024-10-15T22:41:46.482656Z"
    }
   },
   "id": "604b0f87d4e75579",
   "execution_count": 43
  },
  {
   "cell_type": "code",
   "outputs": [],
   "source": [
    "# Przygotowanie danych testowych do prognozy\n",
    "# W tym przypadku, `Next_Close` w test_data to rzeczywiste wartości, które możemy pominąć lub użyć do porównania\n",
    "\n",
    "# Tworzymy kopię test_data, aby nie modyfikować oryginalnych danych\n",
    "test_data_pred = test_data.copy()\n",
    "\n",
    "# Usuwamy kolumnę 'Next_Close', jeśli istnieje (ponieważ chcemy ją przewidzieć)\n",
    "# test_data_pred = test_data_pred.drop(columns=['Next_Close'])\n",
    "\n",
    "# Wyświetl pierwsze kilka wierszy\n",
    "print(test_data_pred.head())\n"
   ],
   "metadata": {
    "collapsed": false,
    "ExecuteTime": {
     "end_time": "2024-10-15T22:41:46.547659Z",
     "start_time": "2024-10-15T22:41:46.547659Z"
    }
   },
   "id": "e18cadb71cfaa2b6",
   "execution_count": null
  },
  {
   "cell_type": "code",
   "outputs": [],
   "source": [
    "# Dokonanie prognozy na danych testowych\n",
    "predictions = model.predict(test_data_pred)\n",
    "\n",
    "# Dodanie prognoz do DataFrame testowego\n",
    "test_data_pred['Predicted_Next_Close'] = predictions\n",
    "\n",
    "# Wyświetlenie kilku prognozowanych wartości\n",
    "print(test_data_pred[['Date', 'Next_Close', 'Predicted_Next_Close']].head())\n"
   ],
   "metadata": {
    "collapsed": false,
    "ExecuteTime": {
     "end_time": "2024-10-15T22:41:46.549658Z",
     "start_time": "2024-10-15T22:41:46.549658Z"
    }
   },
   "id": "282cc85d14378098",
   "execution_count": null
  },
  {
   "cell_type": "code",
   "outputs": [],
   "source": [
    "from sklearn.metrics import mean_absolute_error, mean_squared_error\n",
    "\n",
    "# Obliczenie metryk\n",
    "mae = mean_absolute_error(test_data_pred['Next_Close'], test_data_pred['Predicted_Next_Close'])\n",
    "rmse = np.sqrt(mean_squared_error(test_data_pred['Next_Close'], test_data_pred['Predicted_Next_Close']))\n",
    "\n",
    "print(f\"Mean Absolute Error (MAE): {mae}\")\n",
    "print(f\"Root Mean Squared Error (RMSE): {rmse}\")\n"
   ],
   "metadata": {
    "collapsed": false,
    "ExecuteTime": {
     "end_time": "2024-10-15T22:41:46.551659Z",
     "start_time": "2024-10-15T22:41:46.550659Z"
    }
   },
   "id": "4c9bce36e4d5a38c",
   "execution_count": null
  },
  {
   "cell_type": "code",
   "outputs": [],
   "source": [
    "import matplotlib.pyplot as plt\n",
    "\n",
    "plt.figure(figsize=(14, 7))\n",
    "plt.plot(test_data_pred['Date'], test_data_pred['Next_Close'], label='Rzeczywiste ceny', color='blue')\n",
    "plt.plot(test_data_pred['Date'], test_data_pred['Predicted_Next_Close'], label='Prognozowane ceny', color='red')\n",
    "plt.xlabel('Data')\n",
    "plt.ylabel('Cena Zamknięcia')\n",
    "plt.title(f'Prognoza Cen Akcji {ticker} za pomocą Prophet')\n",
    "plt.legend()\n",
    "plt.show()\n"
   ],
   "metadata": {
    "collapsed": false,
    "ExecuteTime": {
     "start_time": "2024-10-15T22:41:46.552660Z"
    }
   },
   "id": "fde0298bcad7f5a3",
   "execution_count": null
  },
  {
   "cell_type": "code",
   "outputs": [
    {
     "name": "stderr",
     "output_type": "stream",
     "text": [
      "[*********************100%***********************]  1 of 1 completed\n"
     ]
    },
    {
     "ename": "AttributeError",
     "evalue": "'Prophet' object has no attribute 'stan_backend'",
     "output_type": "error",
     "traceback": [
      "\u001B[1;31m---------------------------------------------------------------------------\u001B[0m",
      "\u001B[1;31mAttributeError\u001B[0m                            Traceback (most recent call last)",
      "Cell \u001B[1;32mIn[4], line 125\u001B[0m\n\u001B[0;32m    122\u001B[0m data\u001B[38;5;241m.\u001B[39mreset_index(inplace\u001B[38;5;241m=\u001B[39m\u001B[38;5;28;01mTrue\u001B[39;00m)  \u001B[38;5;66;03m# Ensure 'Date' is a column\u001B[39;00m\n\u001B[0;32m    124\u001B[0m \u001B[38;5;66;03m# Prepare the training data\u001B[39;00m\n\u001B[1;32m--> 125\u001B[0m \u001B[43mprophet_model\u001B[49m\u001B[38;5;241;43m.\u001B[39;49m\u001B[43mfit\u001B[49m\u001B[43m(\u001B[49m\u001B[43mdata\u001B[49m\u001B[43m)\u001B[49m\n\u001B[0;32m    127\u001B[0m \u001B[38;5;66;03m# Fetch future data (for demonstration, we'll use the last available data and shift dates)\u001B[39;00m\n\u001B[0;32m    128\u001B[0m future_periods \u001B[38;5;241m=\u001B[39m \u001B[38;5;241m30\u001B[39m  \u001B[38;5;66;03m# Predict next 30 days\u001B[39;00m\n",
      "Cell \u001B[1;32mIn[4], line 46\u001B[0m, in \u001B[0;36mMyProphet.fit\u001B[1;34m(self, data)\u001B[0m\n\u001B[0;32m     43\u001B[0m df \u001B[38;5;241m=\u001B[39m pd\u001B[38;5;241m.\u001B[39mconcat([df, regressors_scaled_df], axis\u001B[38;5;241m=\u001B[39m\u001B[38;5;241m1\u001B[39m)\n\u001B[0;32m     45\u001B[0m \u001B[38;5;66;03m# Initialize Prophet model\u001B[39;00m\n\u001B[1;32m---> 46\u001B[0m \u001B[38;5;28mself\u001B[39m\u001B[38;5;241m.\u001B[39mmodel \u001B[38;5;241m=\u001B[39m \u001B[43mProphet\u001B[49m\u001B[43m(\u001B[49m\u001B[43m)\u001B[49m\n\u001B[0;32m     48\u001B[0m \u001B[38;5;66;03m# Add regressors to the model\u001B[39;00m\n\u001B[0;32m     49\u001B[0m \u001B[38;5;28;01mfor\u001B[39;00m reg \u001B[38;5;129;01min\u001B[39;00m \u001B[38;5;28mself\u001B[39m\u001B[38;5;241m.\u001B[39mregressors:\n",
      "File \u001B[1;32m~\\Desktop\\crypto\\venv\\lib\\site-packages\\prophet\\forecaster.py:155\u001B[0m, in \u001B[0;36mProphet.__init__\u001B[1;34m(self, growth, changepoints, n_changepoints, changepoint_range, yearly_seasonality, weekly_seasonality, daily_seasonality, holidays, seasonality_mode, seasonality_prior_scale, holidays_prior_scale, changepoint_prior_scale, mcmc_samples, interval_width, uncertainty_samples, stan_backend, scaling, holidays_mode)\u001B[0m\n\u001B[0;32m    153\u001B[0m \u001B[38;5;28mself\u001B[39m\u001B[38;5;241m.\u001B[39mfit_kwargs \u001B[38;5;241m=\u001B[39m {}\n\u001B[0;32m    154\u001B[0m \u001B[38;5;28mself\u001B[39m\u001B[38;5;241m.\u001B[39mvalidate_inputs()\n\u001B[1;32m--> 155\u001B[0m \u001B[38;5;28;43mself\u001B[39;49m\u001B[38;5;241;43m.\u001B[39;49m\u001B[43m_load_stan_backend\u001B[49m\u001B[43m(\u001B[49m\u001B[43mstan_backend\u001B[49m\u001B[43m)\u001B[49m\n",
      "File \u001B[1;32m~\\Desktop\\crypto\\venv\\lib\\site-packages\\prophet\\forecaster.py:168\u001B[0m, in \u001B[0;36mProphet._load_stan_backend\u001B[1;34m(self, stan_backend)\u001B[0m\n\u001B[0;32m    165\u001B[0m \u001B[38;5;28;01melse\u001B[39;00m:\n\u001B[0;32m    166\u001B[0m     \u001B[38;5;28mself\u001B[39m\u001B[38;5;241m.\u001B[39mstan_backend \u001B[38;5;241m=\u001B[39m StanBackendEnum\u001B[38;5;241m.\u001B[39mget_backend_class(stan_backend)()\n\u001B[1;32m--> 168\u001B[0m logger\u001B[38;5;241m.\u001B[39mdebug(\u001B[38;5;124m\"\u001B[39m\u001B[38;5;124mLoaded stan backend: \u001B[39m\u001B[38;5;132;01m%s\u001B[39;00m\u001B[38;5;124m\"\u001B[39m, \u001B[38;5;28;43mself\u001B[39;49m\u001B[38;5;241;43m.\u001B[39;49m\u001B[43mstan_backend\u001B[49m\u001B[38;5;241m.\u001B[39mget_type())\n",
      "\u001B[1;31mAttributeError\u001B[0m: 'Prophet' object has no attribute 'stan_backend'"
     ]
    }
   ],
   "source": [
    "import yfinance as yf\n",
    "import numpy as np\n",
    "import pandas as pd\n",
    "from sklearn.preprocessing import MinMaxScaler\n",
    "from prophet import Prophet\n",
    "import matplotlib.pyplot as plt\n",
    "\n",
    "class MyProphet:\n",
    "    sc_in = MinMaxScaler(feature_range=(0, 1))\n",
    "    sc_out = MinMaxScaler(feature_range=(0, 1))\n",
    "\n",
    "    def __init__(self, args):\n",
    "        \"\"\"\n",
    "        Initialize the MyProphet model with specified arguments.\n",
    "        \n",
    "        Parameters:\n",
    "        args: An object with an 'order' attribute. For Prophet, you might not need 'order',\n",
    "              but it's kept for compatibility. You can modify as needed.\n",
    "        \"\"\"\n",
    "        self.train_size = -1\n",
    "        self.test_size = -1\n",
    "        # Prophet doesn't use 'order', so this can be repurposed or ignored\n",
    "        self.order = args.order if hasattr(args, 'order') else None\n",
    "        self.regressors = ['Open', 'High', 'Low', 'Volume']  # Exogenous variables\n",
    "\n",
    "    def fit(self, data):\n",
    "        \"\"\"\n",
    "        Fit the Prophet model using the provided data.\n",
    "        \n",
    "        Parameters:\n",
    "        data: A pandas DataFrame containing 'Date', 'Close', and regressors.\n",
    "        \"\"\"\n",
    "        data = data.copy()\n",
    "        data['Date'] = pd.to_datetime(data['Date'])\n",
    "        data = data.sort_values('Date')\n",
    "        \n",
    "        # Prepare the dataframe for Prophet\n",
    "        df = data[['Date', 'Close']].rename(columns={'Date': 'ds', 'Close': 'y'})\n",
    "        \n",
    "        # Scale the regressors\n",
    "        regressors_scaled = self.sc_in.fit_transform(data[self.regressors])\n",
    "        regressors_scaled_df = pd.DataFrame(regressors_scaled, columns=self.regressors)\n",
    "        df = pd.concat([df, regressors_scaled_df], axis=1)\n",
    "        \n",
    "        # Initialize Prophet model\n",
    "        self.model = Prophet()\n",
    "        \n",
    "        # Add regressors to the model\n",
    "        for reg in self.regressors:\n",
    "            self.model.add_regressor(reg)\n",
    "        \n",
    "        # Fit the model\n",
    "        self.model.fit(df)\n",
    "        self.last_date = df['ds'].max()\n",
    "\n",
    "    def predict_future(self, future_data, periods=30):\n",
    "        \"\"\"\n",
    "        Predict future stock prices using the fitted Prophet model.\n",
    "        \n",
    "        Parameters:\n",
    "        future_data: A pandas DataFrame containing future 'Date' and regressors.\n",
    "        periods: Number of future periods to predict.\n",
    "        \n",
    "        Returns:\n",
    "        A DataFrame with predicted 'Close' prices.\n",
    "        \"\"\"\n",
    "        future = future_data.copy()\n",
    "        future['Date'] = pd.to_datetime(future['Date'])\n",
    "        future = future.sort_values('Date')\n",
    "        \n",
    "        # Scale the regressors\n",
    "        future_scaled = self.sc_in.transform(future[self.regressors])\n",
    "        future_scaled_df = pd.DataFrame(future_scaled, columns=self.regressors)\n",
    "        \n",
    "        # Prepare the dataframe for Prophet\n",
    "        future_df = future[['Date']].rename(columns={'Date': 'ds'})\n",
    "        future_df = pd.concat([future_df, future_scaled_df], axis=1)\n",
    "        \n",
    "        # Predict\n",
    "        forecast = self.model.predict(future_df)\n",
    "        \n",
    "        # Inverse scale the predictions if necessary\n",
    "        # Since Prophet predicts 'y', which was not scaled, we can directly use it\n",
    "        predictions = forecast[['ds', 'yhat', 'yhat_lower', 'yhat_upper']]\n",
    "        \n",
    "        return predictions\n",
    "\n",
    "    def plot_forecast(self, forecast):\n",
    "        \"\"\"\n",
    "        Plot the forecasted results.\n",
    "        \n",
    "        Parameters:\n",
    "        forecast: The forecast DataFrame returned by the predict method.\n",
    "        \"\"\"\n",
    "        fig1 = self.model.plot(forecast)\n",
    "        plt.title('Prophet Forecast')\n",
    "        plt.xlabel('Date')\n",
    "        plt.ylabel('Close Price')\n",
    "        plt.show()\n",
    "        \n",
    "        fig2 = self.model.plot_components(forecast)\n",
    "        plt.show()\n",
    "\n",
    "# **Usage Example**\n",
    "\n",
    "# Below is an example of how to use the `MyProphet` class to fetch stock data, fit the model, and make future predictions.\n",
    "\n",
    "# ```python\n",
    "# Define a simple args object (if needed)\n",
    "class Args:\n",
    "    def __init__(self, order=None):\n",
    "        self.order = order\n",
    "\n",
    "args = Args()\n",
    "\n",
    "# Initialize the model\n",
    "prophet_model = MyProphet(args)\n",
    "\n",
    "# Fetch historical stock data using yfinance\n",
    "ticker = 'AAPL'  # Example: Apple Inc.\n",
    "data = yf.download(ticker, start='2020-01-01', end='2023-12-31')\n",
    "data.reset_index(inplace=True)  # Ensure 'Date' is a column\n",
    "\n",
    "# Prepare the training data\n",
    "prophet_model.fit(data)\n",
    "\n",
    "# Fetch future data (for demonstration, we'll use the last available data and shift dates)\n",
    "future_periods = 30  # Predict next 30 days\n",
    "last_date = data['Date'].max()\n",
    "future_dates = pd.date_range(last_date + pd.Timedelta(days=1), periods=future_periods, freq='B')  # Business days\n",
    "\n",
    "# For regressors in the future, you need to have their future values.\n",
    "# In practice, you might forecast or assume them. Here, we'll use the last known values.\n",
    "# This is a simplistic approach and should be refined based on actual use case.\n",
    "\n",
    "last_regressors = data[prophet_model.regressors].iloc[-1].values\n",
    "future_regressors = np.tile(last_regressors, (future_periods, 1))\n",
    "future_regressors_df = pd.DataFrame(future_regressors, columns=prophet_model.regressors)\n",
    "\n",
    "# Create future dataframe\n",
    "future_data = pd.DataFrame({\n",
    "    'Date': future_dates,\n",
    "    'Open': future_regressors_df['Open'],\n",
    "    'High': future_regressors_df['High'],\n",
    "    'Low': future_regressors_df['Low'],\n",
    "    'Volume': future_regressors_df['Volume']\n",
    "})\n",
    "\n",
    "# Make predictions\n",
    "forecast = prophet_model.predict_future(future_data, periods=future_periods)\n",
    "\n",
    "# Display the forecast\n",
    "print(forecast.tail())\n",
    "\n",
    "# Plot the \n",
    "# prophet_model.plot_forecast(forecast)\n"
   ],
   "metadata": {
    "collapsed": false,
    "ExecuteTime": {
     "end_time": "2024-10-15T22:43:27.796708Z",
     "start_time": "2024-10-15T22:43:27.636711Z"
    }
   },
   "id": "28d49066921a9c8f",
   "execution_count": 4
  },
  {
   "cell_type": "code",
   "outputs": [
    {
     "data": {
      "text/plain": "<Figure size 640x480 with 1 Axes>",
      "image/png": "[encoded data removed]"
     },
     "metadata": {},
     "output_type": "display_data"
    }
   ],
   "source": [],
   "metadata": {
    "collapsed": false,
    "ExecuteTime": {
     "end_time": "2024-10-15T22:43:01.778784Z",
     "start_time": "2024-10-15T22:43:01.657784Z"
    }
   },
   "id": "d6843e0c7c34fb2c",
   "execution_count": 2
  }
 ],
 "metadata": {
  "kernelspec": {
   "display_name": "Python 3",
   "language": "python",
   "name": "python3"
  },
  "language_info": {
   "codemirror_mode": {
    "name": "ipython",
    "version": 2
   },
   "file_extension": ".py",
   "mimetype": "text/x-python",
   "name": "python",
   "nbconvert_exporter": "python",
   "pygments_lexer": "ipython2",
   "version": "2.7.6"
  }
 },
 "nbformat": 4,
 "nbformat_minor": 5
}
